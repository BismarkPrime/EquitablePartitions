{
 "cells": [
  {
   "cell_type": "code",
   "execution_count": 1,
   "id": "aabd536d",
   "metadata": {},
   "outputs": [],
   "source": [
    "import os\n",
    "os.chdir('..')\n",
    "import graphs\n",
    "import ep_utils\n",
    "from time import perf_counter as pc\n",
    "import networkx as nx\n",
    "from collections import Counter\n",
    "import numpy as np\n",
    "from matplotlib import pyplot as plt\n",
    "from tqdm import tqdm\n",
    "import profile\n",
    "import pstats\n",
    "from importlib import reload"
   ]
  },
  {
   "cell_type": "markdown",
   "id": "3a67f6eb",
   "metadata": {},
   "source": [
    "# Creating Bertha here because there's an error with creation sometimes"
   ]
  },
  {
   "cell_type": "code",
   "execution_count": 3,
   "id": "3460eb96",
   "metadata": {},
   "outputs": [
    {
     "name": "stderr",
     "output_type": "stream",
     "text": [
      "100%|█████████████████████████████████████████████| 9/9 [00:41<00:00,  4.58s/it]\n"
     ]
    }
   ],
   "source": [
    "\n",
    "#sizes = list(set([int(2**i) for i in np.linspace(1,14,100)]))\n",
    "sizes = 2**np.arange(5,14)\n",
    "prog = tqdm(sizes,total = len(sizes))\n",
    "berthas = {}\n",
    "\n",
    "for i in prog:\n",
    "    \n",
    "    try:\n",
    "        G = graphs.GenBertha(i)\n",
    "        berthas[i] = G\n",
    "    except:\n",
    "        print(f\"failed for size {i}\")\n",
    "    prog.update()"
   ]
  },
  {
   "cell_type": "code",
   "execution_count": 4,
   "id": "021bcb86",
   "metadata": {},
   "outputs": [],
   "source": [
    "def DuelOfMethods(bertha,verbose=False):\n",
    "    \"\"\"compares networkx's normal eigenvalue catching method to our method\n",
    "    PARAMETERS:\n",
    "        size (int): how big of graph you want to compare with\n",
    "    RETURNS:\n",
    "        our_time (float): how long our method took\n",
    "        their_time (float): how long their method took\n",
    "        accurate (bool): if we matched their spectrum\n",
    "    \"\"\"\n",
    "    # normal method\n",
    "    start = pc()\n",
    "    their_spec = nx.adjacency_spectrum(bertha)\n",
    "    end = pc()\n",
    "    their_time = end-start\n",
    "    \n",
    "    # our method\n",
    "    start = pc()\n",
    "    our_spec = ep_utils.GetSpectrumFromLEPs(bertha,verbose=verbose)\n",
    "    end = pc()\n",
    "    our_time = end-start\n",
    "\n",
    "    \n",
    "    # check if our spectrums are the same\n",
    "    accurate = Counter(np.round(np.array(their_spec),2)) == Counter(np.round(our_spec,2))\n",
    "    \n",
    "    return our_time, their_time, accurate\n",
    "    "
   ]
  },
  {
   "cell_type": "code",
   "execution_count": 5,
   "id": "86410fe6",
   "metadata": {},
   "outputs": [
    {
     "name": "stderr",
     "output_type": "stream",
     "text": [
      "\r",
      "  0%|                                                     | 0/9 [00:00<?, ?it/s]"
     ]
    },
    {
     "name": "stdout",
     "output_type": "stream",
     "text": [
      "For Bertha of size: 32\n"
     ]
    },
    {
     "name": "stderr",
     "output_type": "stream",
     "text": [
      "\r",
      " 11%|█████                                        | 1/9 [00:00<00:07,  1.08it/s]"
     ]
    },
    {
     "name": "stdout",
     "output_type": "stream",
     "text": [
      "For Bertha of size: 64\n",
      "For Bertha of size: 128\n"
     ]
    },
    {
     "name": "stderr",
     "output_type": "stream",
     "text": [
      "\r",
      " 44%|████████████████████                         | 4/9 [00:01<00:01,  4.03it/s]"
     ]
    },
    {
     "name": "stdout",
     "output_type": "stream",
     "text": [
      "For Bertha of size: 256\n"
     ]
    },
    {
     "name": "stderr",
     "output_type": "stream",
     "text": [
      "\r",
      " 78%|███████████████████████████████████          | 7/9 [00:01<00:00,  4.76it/s]"
     ]
    },
    {
     "name": "stdout",
     "output_type": "stream",
     "text": [
      "For Bertha of size: 512\n"
     ]
    },
    {
     "name": "stderr",
     "output_type": "stream",
     "text": [
      "\r",
      " 89%|████████████████████████████████████████     | 8/9 [00:03<00:00,  1.91it/s]"
     ]
    },
    {
     "name": "stdout",
     "output_type": "stream",
     "text": [
      "For Bertha of size: 1024\n"
     ]
    },
    {
     "name": "stderr",
     "output_type": "stream",
     "text": [
      "\r",
      "10it [00:09,  1.50s/it]                                                         "
     ]
    },
    {
     "name": "stdout",
     "output_type": "stream",
     "text": [
      "For Bertha of size: 2048\n"
     ]
    },
    {
     "name": "stderr",
     "output_type": "stream",
     "text": [
      "\r",
      "11it [00:38,  7.16s/it]"
     ]
    },
    {
     "name": "stdout",
     "output_type": "stream",
     "text": [
      "For Bertha of size: 4096\n"
     ]
    },
    {
     "name": "stderr",
     "output_type": "stream",
     "text": [
      "\r",
      "12it [03:01, 38.29s/it]"
     ]
    },
    {
     "name": "stdout",
     "output_type": "stream",
     "text": [
      "For Bertha of size: 8192\n"
     ]
    },
    {
     "name": "stderr",
     "output_type": "stream",
     "text": [
      "100%|████████████████████████████████████████████| 9/9 [15:24<00:00, 102.72s/it]\n"
     ]
    }
   ],
   "source": [
    "#size_list = list(set([int(2**i) for i in np.linspace(1,14,100)]))#[2**i for i in range(3,13)]\n",
    "\n",
    "our_times = []\n",
    "their_times = []\n",
    "acc_count = []\n",
    "\n",
    "progress_bar = tqdm(sizes,total=len(sizes))\n",
    "\n",
    "for size in progress_bar:\n",
    "    print(f\"For Bertha of size: {size}\")\n",
    "    us, them, peter, acc = 0, 0, 0, 0\n",
    "    iters = 2\n",
    "    for i in range(iters):\n",
    "        us_i, them_i, acc_i = DuelOfMethods(berthas[size])\n",
    "        us, them, acc = us+us_i, them+them_i, acc+acc_i\n",
    "    us, them, acc = us/iters, them/iters, acc/iters\n",
    "    our_times.append(us)\n",
    "    their_times.append(them)\n",
    "    acc_count.append(acc)\n",
    "    progress_bar.update()"
   ]
  },
  {
   "cell_type": "code",
   "execution_count": 6,
   "id": "9e284a24",
   "metadata": {
    "scrolled": false
   },
   "outputs": [
    {
     "data": {
      "image/png": "[encoded data removed]",
      "text/plain": [
       "<Figure size 640x480 with 1 Axes>"
      ]
     },
     "metadata": {},
     "output_type": "display_data"
    }
   ],
   "source": [
    "piece = 100\n",
    "plt.loglog(list(sizes),our_times,'-',color='forestgreen',label=\"Our Method\")\n",
    "plt.loglog(list(sizes),their_times,'-',color='maroon',label='Naiive Method')\n",
    "#plt.loglog(sizes,p(size_list),'-',color='midnightblue',label='Polynomial Regression (squared)')\n",
    "#plt.loglog(sizes,p1(size_list),'-',color='chartreuse',label='Their Polynomial Regression (cubed)')\n",
    "\n",
    "plt.title(f\"Method Comparison\\nAccuracy: {np.sum(acc_count)/len(acc_count)}\")\n",
    "plt.legend()\n",
    "plt.savefig('Speed_comp.png')\n",
    "plt.show()"
   ]
  },
  {
   "cell_type": "code",
   "execution_count": null,
   "id": "15deee33",
   "metadata": {
    "scrolled": false
   },
   "outputs": [],
   "source": [
    "#bertha = graphs.GenBertha(1000)\n",
    "#profile.run(\"ep_utils.GetSpectrumFromLEPs(bertha)\")"
   ]
  },
  {
   "cell_type": "code",
   "execution_count": null,
   "id": "4ac9d3d6",
   "metadata": {
    "scrolled": true
   },
   "outputs": [],
   "source": [
    "# do a dot bar graph for how fast we can go "
   ]
  },
  {
   "cell_type": "code",
   "execution_count": 10,
   "id": "ee2c463d",
   "metadata": {},
   "outputs": [],
   "source": [
    "from collections import Counter\n",
    "import numpy as np\n",
    "from time import perf_counter as pc\n",
    "from matplotlib import pyplot as plt"
   ]
  },
  {
   "cell_type": "code",
   "execution_count": null,
   "id": "a194f8fa",
   "metadata": {},
   "outputs": [],
   "source": []
  }
 ],
 "metadata": {
  "kernelspec": {
   "display_name": "Python 3 (ipykernel)",
   "language": "python",
   "name": "python3"
  },
  "language_info": {
   "codemirror_mode": {
    "name": "ipython",
    "version": 3
   },
   "file_extension": ".py",
   "mimetype": "text/x-python",
   "name": "python",
   "nbconvert_exporter": "python",
   "pygments_lexer": "ipython3",
   "version": "3.10.13"
  },
  "vscode": {
   "interpreter": {
    "hash": "db2f90f1f00b3e893a9357df64636d40bf6fd81f38bfd24fd967392d4ed4d76a"
   }
  }
 },
 "nbformat": 4,
 "nbformat_minor": 5
}
