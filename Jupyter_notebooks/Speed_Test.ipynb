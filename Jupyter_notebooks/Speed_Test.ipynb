{
 "cells": [
  {
   "cell_type": "code",
   "execution_count": 1,
   "id": "aabd536d",
   "metadata": {},
   "outputs": [],
   "source": [
    "import os\n",
    "os.chdir('..')\n",
    "import graphs\n",
    "import ep_utils\n",
    "from time import perf_counter as pc\n",
    "import networkx as nx\n",
    "from collections import Counter\n",
    "import numpy as np\n",
    "from matplotlib import pyplot as plt\n",
    "from tqdm import tqdm\n",
    "import profile\n",
    "import pstats"
   ]
  },
  {
   "cell_type": "markdown",
   "id": "3a67f6eb",
   "metadata": {},
   "source": [
    "# Creating Bertha here because there's an error with creation sometimes"
   ]
  },
  {
   "cell_type": "code",
   "execution_count": 2,
   "id": "176b5a0c",
   "metadata": {},
   "outputs": [
    {
     "ename": "TypeError",
     "evalue": "GenBertha() missing 1 required positional argument: 'size'",
     "output_type": "error",
     "traceback": [
      "\u001b[0;31m---------------------------------------------------------------------------\u001b[0m",
      "\u001b[0;31mTypeError\u001b[0m                                 Traceback (most recent call last)",
      "Cell \u001b[0;32mIn [2], line 1\u001b[0m\n\u001b[0;32m----> 1\u001b[0m G \u001b[38;5;241m=\u001b[39m \u001b[43mgraphs\u001b[49m\u001b[38;5;241;43m.\u001b[39;49m\u001b[43mGenBertha\u001b[49m\u001b[43m(\u001b[49m\u001b[43m)\u001b[49m\n",
      "\u001b[0;31mTypeError\u001b[0m: GenBertha() missing 1 required positional argument: 'size'"
     ]
    }
   ],
   "source": [
    "G = graphs.GenBertha()"
   ]
  },
  {
   "cell_type": "code",
   "execution_count": 3,
   "id": "3460eb96",
   "metadata": {},
   "outputs": [
    {
     "name": "stderr",
     "output_type": "stream",
     "text": [
      "100%|█████████████████████████████████████████████| 8/8 [00:14<00:00,  1.77s/it]\n"
     ]
    }
   ],
   "source": [
    "\n",
    "#sizes = list(set([int(2**i) for i in np.linspace(1,14,100)]))\n",
    "sizes = 2**np.arange(5,13)\n",
    "prog = tqdm(sizes,total = len(sizes))\n",
    "berthas = {}\n",
    "\n",
    "for i in prog:\n",
    "    \n",
    "    try:\n",
    "        G = graphs.GenBertha(i)\n",
    "        berthas[i] = G\n",
    "    except:\n",
    "        print(f\"failed for size {i}\")\n",
    "    prog.update()"
   ]
  },
  {
   "cell_type": "code",
   "execution_count": 4,
   "id": "021bcb86",
   "metadata": {},
   "outputs": [],
   "source": [
    "def DuelOfMethods(bertha):\n",
    "    \"\"\"compares networkx's normal eigenvalue catching method to our method\n",
    "    PARAMETERS:\n",
    "        size (int): how big of graph you want to compare with\n",
    "    RETURNS:\n",
    "        our_time (float): how long our method took\n",
    "        their_time (float): how long their method took\n",
    "        accurate (bool): if we matched their spectrum\n",
    "    \"\"\"\n",
    "    # normal method\n",
    "    start = pc()\n",
    "    their_spec = nx.adjacency_spectrum(bertha)\n",
    "    end = pc()\n",
    "    their_time = end-start\n",
    "    \n",
    "    # our method\n",
    "    start = pc()\n",
    "    our_spec = ep_utils.GetSpectrumFromLEPs(bertha)\n",
    "    end = pc()\n",
    "    our_time = end-start\n",
    "\n",
    "    \n",
    "    # check if our spectrums are the same\n",
    "    accurate = Counter(np.round(np.array(their_spec),2)) == Counter(np.round(our_spec,2))\n",
    "    \n",
    "    return our_time, their_time, accurate\n",
    "    "
   ]
  },
  {
   "cell_type": "code",
   "execution_count": 18,
   "id": "86410fe6",
   "metadata": {},
   "outputs": [
    {
     "name": "stderr",
     "output_type": "stream",
     "text": [
      " 25%|███████████▎                                 | 2/8 [00:00<00:00, 10.74it/s]"
     ]
    },
    {
     "name": "stdout",
     "output_type": "stream",
     "text": [
      "32\n",
      "0 out of 7\n",
      "now getting total divisor spectrum\n",
      "creating counter\n",
      "subtracting counter\n",
      "returning spectrum\n",
      "0 out of 7\n",
      "now getting total divisor spectrum\n",
      "creating counter\n",
      "subtracting counter\n",
      "returning spectrum\n",
      "0 out of 7\n",
      "now getting total divisor spectrum\n",
      "creating counter\n",
      "subtracting counter\n",
      "returning spectrum\n",
      "0 out of 7\n",
      "now getting total divisor spectrum\n",
      "creating counter\n",
      "subtracting counter\n",
      "returning spectrum\n",
      "64\n",
      "0 out of 12\n",
      "now getting total divisor spectrum\n",
      "creating counter\n",
      "subtracting counter\n",
      "returning spectrum\n",
      "0 out of 12\n",
      "now getting total divisor spectrum\n",
      "creating counter\n",
      "subtracting counter\n",
      "returning spectrum\n",
      "0 out of 12\n",
      "now getting total divisor spectrum\n",
      "creating counter\n",
      "subtracting counter\n",
      "returning spectrum\n",
      "0 out of 12\n",
      "now getting total divisor spectrum\n",
      "creating counter\n",
      "subtracting counter\n",
      "returning spectrum\n",
      "128\n",
      "0 out of 18\n",
      "now getting total divisor spectrum\n",
      "creating counter\n",
      "subtracting counter\n",
      "returning spectrum\n",
      "0 out of 18\n",
      "now getting total divisor spectrum\n",
      "creating counter\n",
      "subtracting counter\n",
      "returning spectrum\n",
      "0 out of 18\n",
      "now getting total divisor spectrum\n"
     ]
    },
    {
     "name": "stderr",
     "output_type": "stream",
     "text": [
      "\r",
      " 62%|████████████████████████████▏                | 5/8 [00:00<00:00,  7.32it/s]"
     ]
    },
    {
     "name": "stdout",
     "output_type": "stream",
     "text": [
      "creating counter\n",
      "subtracting counter\n",
      "returning spectrum\n",
      "0 out of 18\n",
      "now getting total divisor spectrum\n",
      "creating counter\n",
      "subtracting counter\n",
      "returning spectrum\n",
      "256\n",
      "0 out of 29\n",
      "now getting total divisor spectrum\n",
      "creating counter\n",
      "subtracting counter\n",
      "returning spectrum\n",
      "0 out of 29\n",
      "now getting total divisor spectrum\n",
      "creating counter\n",
      "subtracting counter\n",
      "returning spectrum\n",
      "0 out of 29\n",
      "now getting total divisor spectrum\n",
      "creating counter\n",
      "subtracting counter\n",
      "returning spectrum\n"
     ]
    },
    {
     "name": "stderr",
     "output_type": "stream",
     "text": [
      "\r",
      " 88%|███████████████████████████████████████▍     | 7/8 [00:01<00:00,  3.47it/s]"
     ]
    },
    {
     "name": "stdout",
     "output_type": "stream",
     "text": [
      "0 out of 29\n",
      "now getting total divisor spectrum\n",
      "creating counter\n",
      "subtracting counter\n",
      "returning spectrum\n",
      "512\n",
      "0 out of 45\n",
      "now getting total divisor spectrum\n",
      "creating counter\n",
      "subtracting counter\n",
      "returning spectrum\n",
      "0 out of 45\n",
      "now getting total divisor spectrum\n",
      "creating counter\n",
      "subtracting counter\n",
      "returning spectrum\n",
      "0 out of 45\n",
      "now getting total divisor spectrum\n",
      "creating counter\n",
      "subtracting counter\n",
      "returning spectrum\n"
     ]
    },
    {
     "name": "stderr",
     "output_type": "stream",
     "text": [
      "\r",
      "100%|█████████████████████████████████████████████| 8/8 [00:04<00:00,  1.13it/s]"
     ]
    },
    {
     "name": "stdout",
     "output_type": "stream",
     "text": [
      "0 out of 45\n",
      "now getting total divisor spectrum\n",
      "creating counter\n",
      "subtracting counter\n",
      "returning spectrum\n",
      "1024\n",
      "0 out of 70\n",
      "now getting total divisor spectrum\n",
      "creating counter\n",
      "subtracting counter\n",
      "returning spectrum\n",
      "0 out of 70\n",
      "now getting total divisor spectrum\n",
      "creating counter\n",
      "subtracting counter\n",
      "returning spectrum\n",
      "0 out of 70\n",
      "now getting total divisor spectrum\n",
      "creating counter\n",
      "subtracting counter\n",
      "returning spectrum\n"
     ]
    },
    {
     "name": "stderr",
     "output_type": "stream",
     "text": [
      "\r",
      "9it [00:15,  3.34s/it]                                                          "
     ]
    },
    {
     "name": "stdout",
     "output_type": "stream",
     "text": [
      "0 out of 70\n",
      "now getting total divisor spectrum\n",
      "creating counter\n",
      "subtracting counter\n",
      "returning spectrum\n",
      "2048\n",
      "0 out of 108\n",
      "now getting total divisor spectrum\n",
      "creating counter\n",
      "subtracting counter\n",
      "returning spectrum\n",
      "0 out of 108\n",
      "now getting total divisor spectrum\n",
      "creating counter\n",
      "subtracting counter\n",
      "returning spectrum\n",
      "0 out of 108\n",
      "now getting total divisor spectrum\n",
      "creating counter\n",
      "subtracting counter\n",
      "returning spectrum\n"
     ]
    },
    {
     "name": "stderr",
     "output_type": "stream",
     "text": [
      "\r",
      "11it [01:10, 13.12s/it]"
     ]
    },
    {
     "name": "stdout",
     "output_type": "stream",
     "text": [
      "0 out of 108\n",
      "now getting total divisor spectrum\n",
      "creating counter\n",
      "subtracting counter\n",
      "returning spectrum\n",
      "4096\n",
      "0 out of 168\n",
      "now getting total divisor spectrum\n",
      "creating counter\n",
      "subtracting counter\n",
      "returning spectrum\n",
      "0 out of 168\n",
      "now getting total divisor spectrum\n",
      "creating counter\n",
      "subtracting counter\n",
      "returning spectrum\n",
      "0 out of 168\n",
      "now getting total divisor spectrum\n",
      "creating counter\n",
      "subtracting counter\n",
      "returning spectrum\n",
      "0 out of 168\n"
     ]
    },
    {
     "name": "stderr",
     "output_type": "stream",
     "text": [
      "100%|█████████████████████████████████████████████| 8/8 [05:42<00:00, 42.78s/it]"
     ]
    },
    {
     "name": "stdout",
     "output_type": "stream",
     "text": [
      "now getting total divisor spectrum\n",
      "creating counter\n",
      "subtracting counter\n",
      "returning spectrum\n"
     ]
    },
    {
     "name": "stderr",
     "output_type": "stream",
     "text": [
      "\n"
     ]
    }
   ],
   "source": [
    "#size_list = list(set([int(2**i) for i in np.linspace(1,14,100)]))#[2**i for i in range(3,13)]\n",
    "\n",
    "our_times = []\n",
    "their_times = []\n",
    "acc_count = []\n",
    "\n",
    "progress_bar = tqdm(sizes,total=len(sizes))\n",
    "\n",
    "for size in progress_bar:\n",
    "    print(size)\n",
    "    us, them, peter, acc = 0, 0, 0, 0\n",
    "    iters = 4\n",
    "    for i in range(iters):\n",
    "        us_i, them_i, acc_i = DuelOfMethods(berthas[size])\n",
    "        us, them, acc = us+us_i, them+them_i, acc+acc_i\n",
    "    us, them, acc = us/iters, them/iters, acc/iters\n",
    "    our_times.append(us)\n",
    "    their_times.append(them)\n",
    "    acc_count.append(acc)\n",
    "    progress_bar.update()"
   ]
  },
  {
   "cell_type": "code",
   "execution_count": 10,
   "id": "59ee3ed2",
   "metadata": {},
   "outputs": [],
   "source": [
    "# integer power polynomial interpolation\n",
    "z = np.polyfit(size_list,our_times,2)\n",
    "p = np.poly1d(z)\n",
    "z1 = np.polyfit(size_list,their_times,3)\n",
    "p1 = np.poly1d(z1)"
   ]
  },
  {
   "cell_type": "code",
   "execution_count": 14,
   "id": "73fba3a6",
   "metadata": {},
   "outputs": [],
   "source": [
    "# mean coefficient interpolation for float power of polynomials\n",
    "size = np.array(size_list)\n",
    "our = np.array(our_times).reshape(-1,1)\n",
    "their = np.array(their_times).reshape(-1,1)\n",
    "coefs = np.linspace(1e-6,1e-3,1000)   # possible beta coefficients\n",
    "\n",
    "# place to store the results\n",
    "choices = []\n",
    "\n",
    "# minimize the \n",
    "for power in np.linspace(1,3,25):\n",
    "    betas = np.sum((np.outer(size**power,coefs)-our)**2,axis=0)\n",
    "    choices.append([coefs[np.argmin(betas)],np.min(betas),power])   # store coef, and error of polynomial regression of specific power \n",
    "\n"
   ]
  },
  {
   "cell_type": "code",
   "execution_count": 19,
   "id": "9e284a24",
   "metadata": {
    "scrolled": false
   },
   "outputs": [
    {
     "data": {
      "image/png": "[encoded data removed]",
      "text/plain": [
       "<Figure size 640x480 with 1 Axes>"
      ]
     },
     "metadata": {},
     "output_type": "display_data"
    }
   ],
   "source": [
    "piece = 100\n",
    "plt.loglog(list(sizes) + [10100],our_times + [us],'-',color='forestgreen',label=\"Our Method\")\n",
    "plt.loglog(list(sizes) + [10100],their_times + [them],'-',color='maroon',label='Naiive Method')\n",
    "#plt.loglog(sizes,p(size_list),'-',color='midnightblue',label='Polynomial Regression (squared)')\n",
    "#plt.loglog(sizes,p1(size_list),'-',color='chartreuse',label='Their Polynomial Regression (cubed)')\n",
    "\n",
    "plt.title(f\"Method Comparison\\nAccuracy: {np.sum(acc_count)/len(acc_count)}\")\n",
    "plt.legend()\n",
    "plt.show()\n",
    "#plt.save('Speed_comp.png')"
   ]
  },
  {
   "cell_type": "code",
   "execution_count": null,
   "id": "15deee33",
   "metadata": {
    "scrolled": false
   },
   "outputs": [],
   "source": [
    "#bertha = graphs.GenBertha(1000)\n",
    "#profile.run(\"ep_utils.GetSpectrumFromLEPs(bertha)\")"
   ]
  },
  {
   "cell_type": "code",
   "execution_count": null,
   "id": "4ac9d3d6",
   "metadata": {
    "scrolled": true
   },
   "outputs": [],
   "source": [
    "# do a dot bar graph for how fast we can go "
   ]
  },
  {
   "cell_type": "code",
   "execution_count": 10,
   "id": "ee2c463d",
   "metadata": {},
   "outputs": [],
   "source": [
    "from collections import Counter\n",
    "import numpy as np\n",
    "from time import perf_counter as pc\n",
    "from matplotlib import pyplot as plt"
   ]
  },
  {
   "cell_type": "code",
   "execution_count": 29,
   "id": "74d0243d",
   "metadata": {},
   "outputs": [],
   "source": [
    "arrs = []\n",
    "sizes = [i for i in range(10000,1000000,1000)]\n",
    "\n",
    "for i in sizes:\n",
    "    arrs.append(np.random.randint(0,10,i))\n",
    "                "
   ]
  },
  {
   "cell_type": "code",
   "execution_count": 25,
   "id": "5bb56404",
   "metadata": {},
   "outputs": [],
   "source": [
    "times = []\n",
    "\n",
    "for arr in arrs:\n",
    "    start = pc()\n",
    "    Counter(arr)\n",
    "    end = pc()\n",
    "    \n",
    "    times.append(end-start)"
   ]
  },
  {
   "cell_type": "code",
   "execution_count": 26,
   "id": "459677c3",
   "metadata": {},
   "outputs": [
    {
     "data": {
      "text/plain": [
       "[<matplotlib.lines.Line2D at 0x10f05f190>]"
      ]
     },
     "execution_count": 26,
     "metadata": {},
     "output_type": "execute_result"
    },
    {
     "data": {
      "image/png": "[encoded data removed]",
      "text/plain": [
       "<Figure size 640x480 with 1 Axes>"
      ]
     },
     "metadata": {},
     "output_type": "display_data"
    }
   ],
   "source": [
    "plt.plot(sizes,times)"
   ]
  },
  {
   "cell_type": "code",
   "execution_count": 30,
   "id": "0b702061",
   "metadata": {},
   "outputs": [],
   "source": [
    "times2 = []\n",
    "\n",
    "obj = Counter(list(arrs[-1]))\n",
    "for i in sizes[::-1]:\n",
    "    start = pc()\n",
    "    obj.subtract(list(arrs[-1][::i]))\n",
    "    end = pc()\n",
    "    \n",
    "    times2.append(end-start)"
   ]
  },
  {
   "cell_type": "code",
   "execution_count": 31,
   "id": "0f496d33",
   "metadata": {},
   "outputs": [
    {
     "data": {
      "text/plain": [
       "[<matplotlib.lines.Line2D at 0x10f13e0b0>]"
      ]
     },
     "execution_count": 31,
     "metadata": {},
     "output_type": "execute_result"
    },
    {
     "data": {
      "image/png": "[encoded data removed]",
      "text/plain": [
       "<Figure size 640x480 with 1 Axes>"
      ]
     },
     "metadata": {},
     "output_type": "display_data"
    }
   ],
   "source": [
    "plt.plot(sizes,times2)"
   ]
  },
  {
   "cell_type": "code",
   "execution_count": null,
   "id": "a194f8fa",
   "metadata": {},
   "outputs": [],
   "source": []
  }
 ],
 "metadata": {
  "kernelspec": {
   "display_name": "Python 3 (ipykernel)",
   "language": "python",
   "name": "python3"
  },
  "language_info": {
   "codemirror_mode": {
    "name": "ipython",
    "version": 3
   },
   "file_extension": ".py",
   "mimetype": "text/x-python",
   "name": "python",
   "nbconvert_exporter": "python",
   "pygments_lexer": "ipython3",
   "version": "3.10.13"
  },
  "vscode": {
   "interpreter": {
    "hash": "db2f90f1f00b3e893a9357df64636d40bf6fd81f38bfd24fd967392d4ed4d76a"
   }
  }
 },
 "nbformat": 4,
 "nbformat_minor": 5
}
