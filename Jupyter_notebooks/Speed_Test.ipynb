{
 "cells": [
  {
   "cell_type": "code",
   "execution_count": 1,
   "id": "aabd536d",
   "metadata": {},
   "outputs": [],
   "source": [
    "import os\n",
    "os.chdir('..')\n",
    "import graphs\n",
    "import ep_utils\n",
    "from time import perf_counter as pc\n",
    "import networkx as nx\n",
    "from collections import Counter\n",
    "import numpy as np\n",
    "from matplotlib import pyplot as plt\n",
    "from tqdm import tqdm\n",
    "import profile\n",
    "import pstats"
   ]
  },
  {
   "cell_type": "code",
   "execution_count": 2,
   "id": "021bcb86",
   "metadata": {},
   "outputs": [],
   "source": [
    "def DuelOfMethods(bertha):\n",
    "    \"\"\"compares networkx's normal eigenvalue catching method to our method\n",
    "    PARAMETERS:\n",
    "        size (int): how big of graph you want to compare with\n",
    "    RETURNS:\n",
    "        our_time (float): how long our method took\n",
    "        their_time (float): how long their method took\n",
    "        accurate (bool): if we matched their spectrum\n",
    "    \"\"\"\n",
    "    \n",
    "    \n",
    "\n",
    "    # normal method\n",
    "    start = pc()\n",
    "    their_spec = nx.adjacency_spectrum(bertha)\n",
    "    end = pc()\n",
    "    their_time = end-start\n",
    "    \n",
    "    # our method\n",
    "    start = pc()\n",
    "    our_spec = ep_utils.GetSpectrumFromLEPs(bertha)\n",
    "    end = pc()\n",
    "    our_time = end-start\n",
    "\n",
    "    \n",
    "    # check if our spectrums are the same\n",
    "    accurate = Counter(np.round(np.array(their_spec),2)) == Counter(np.round(our_spec,2))\n",
    "    \n",
    "    return our_time, their_time, accurate\n",
    "    "
   ]
  },
  {
   "cell_type": "code",
   "execution_count": 3,
   "id": "edce7aba",
   "metadata": {},
   "outputs": [],
   "source": [
    "# generate list of berthas here to avoid having to generate them every time\n",
    "size_list = [2**i for i in range(3,13)]\n",
    "berthas = {size: graphs.GenBertha(size) for size in size_list}\n"
   ]
  },
  {
   "cell_type": "code",
   "execution_count": 6,
   "id": "86410fe6",
   "metadata": {},
   "outputs": [
    {
     "name": "stderr",
     "output_type": "stream",
     "text": [
      " 20%|██        | 2/10 [00:00<00:00, 10.89it/s]"
     ]
    },
    {
     "name": "stdout",
     "output_type": "stream",
     "text": [
      "8\n",
      "16\n",
      "32\n"
     ]
    },
    {
     "name": "stderr",
     "output_type": "stream",
     "text": [
      " 80%|████████  | 8/10 [00:00<00:00, 16.85it/s]"
     ]
    },
    {
     "name": "stdout",
     "output_type": "stream",
     "text": [
      "64\n",
      "128\n",
      "256\n"
     ]
    },
    {
     "name": "stderr",
     "output_type": "stream",
     "text": [
      "100%|██████████| 10/10 [00:03<00:00,  2.12it/s]"
     ]
    },
    {
     "name": "stdout",
     "output_type": "stream",
     "text": [
      "512\n",
      "1024\n"
     ]
    },
    {
     "name": "stderr",
     "output_type": "stream",
     "text": [
      "12it [00:18,  2.73s/it]                        "
     ]
    },
    {
     "name": "stdout",
     "output_type": "stream",
     "text": [
      "2048\n"
     ]
    },
    {
     "name": "stderr",
     "output_type": "stream",
     "text": [
      "13it [01:19, 13.46s/it]"
     ]
    },
    {
     "name": "stdout",
     "output_type": "stream",
     "text": [
      "4096\n"
     ]
    },
    {
     "name": "stderr",
     "output_type": "stream",
     "text": [
      "100%|██████████| 10/10 [07:11<00:00, 43.12s/it]\n"
     ]
    }
   ],
   "source": [
    "size_list = [2**i for i in range(3,13)]\n",
    "our_times = []\n",
    "their_times = []\n",
    "acc_count = []\n",
    "\n",
    "progress_bar = tqdm(size_list,total=len(size_list))\n",
    "\n",
    "for size in progress_bar:\n",
    "    print(size)\n",
    "    us, them, peter, acc = 0, 0, 0, 0\n",
    "    iters = 4\n",
    "    for i in range(iters):\n",
    "        us_i, them_i, acc_i = DuelOfMethods(berthas[size])\n",
    "        us, them, acc = us+us_i, them+them_i, acc+acc_i\n",
    "    us, them, acc = us/iters, them/iters, acc/iters\n",
    "    our_times.append(us)\n",
    "    their_times.append(them)\n",
    "    acc_count.append(acc)\n",
    "    progress_bar.update()"
   ]
  },
  {
   "cell_type": "code",
   "execution_count": 7,
   "id": "9e284a24",
   "metadata": {
    "scrolled": false
   },
   "outputs": [
    {
     "data": {
      "image/png": "[encoded data removed]",
      "text/plain": [
       "<Figure size 432x288 with 1 Axes>"
      ]
     },
     "metadata": {
      "needs_background": "light"
     },
     "output_type": "display_data"
    }
   ],
   "source": [
    "piece = 100\n",
    "plt.loglog(size_list[5:piece],our_times[5:piece],'-',color='forestgreen',label=\"Our Method\")\n",
    "plt.loglog(size_list[5:piece],their_times[5:piece],'-',color='maroon',label='Their Method')\n",
    "\n",
    "plt.title(f\"Method Comparison\\nAccuracy: {np.sum(acc_count)/len(acc_count)}\")\n",
    "plt.legend()\n",
    "plt.show()"
   ]
  },
  {
   "cell_type": "code",
   "execution_count": null,
   "id": "15deee33",
   "metadata": {
    "scrolled": false
   },
   "outputs": [],
   "source": [
    "#bertha = graphs.GenBertha(1000)\n",
    "#profile.run(\"ep_utils.GetSpectrumFromLEPs(bertha)\")"
   ]
  },
  {
   "cell_type": "code",
   "execution_count": null,
   "id": "4ac9d3d6",
   "metadata": {
    "scrolled": true
   },
   "outputs": [],
   "source": [
    "profile.run(\"ep_utils.GetSpectrumFromLEPs(bertha)\")"
   ]
  }
 ],
 "metadata": {
  "kernelspec": {
   "display_name": "Python 3 (ipykernel)",
   "language": "python",
   "name": "python3"
  },
  "language_info": {
   "codemirror_mode": {
    "name": "ipython",
    "version": 3
   },
   "file_extension": ".py",
   "mimetype": "text/x-python",
   "name": "python",
   "nbconvert_exporter": "python",
   "pygments_lexer": "ipython3",
   "version": "3.10.6"
  },
  "vscode": {
   "interpreter": {
    "hash": "db2f90f1f00b3e893a9357df64636d40bf6fd81f38bfd24fd967392d4ed4d76a"
   }
  }
 },
 "nbformat": 4,
 "nbformat_minor": 5
}
