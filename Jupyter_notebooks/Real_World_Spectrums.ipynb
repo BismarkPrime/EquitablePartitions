{
 "cells": [
  {
   "cell_type": "code",
   "execution_count": 3,
   "id": "4a969480",
   "metadata": {},
   "outputs": [],
   "source": [
    "naive_times = []\n",
    "our_times = []\n",
    "times = {}"
   ]
  },
  {
   "cell_type": "code",
   "execution_count": 1,
   "id": "e5d63f15",
   "metadata": {},
   "outputs": [],
   "source": [
    "# research where people take pictures of cancer cells and such.\n",
    "import os,sys\n",
    "\n",
    "import pandas as pd\n",
    "import networkx as nx\n",
    "from importlib import reload\n",
    "import inspect\n",
    "import csv\n",
    "import sys\n",
    "from inspect import getmembers, isfunction\n",
    "\n",
    "import numpy as np\n",
    "import os, sys\n",
    "from importlib import reload\n",
    "from matplotlib import pyplot as plt\n",
    "from tqdm import tqdm\n",
    "import networkx as nx\n",
    "os.chdir('..')\n",
    "import ep_finder, lep_finder, graphs, ep_utils\n",
    "os.chdir('Data')"
   ]
  },
  {
   "cell_type": "code",
   "execution_count": 2,
   "id": "6e1981e6",
   "metadata": {},
   "outputs": [
    {
     "data": {
      "text/plain": [
       "'/Users/josephhenderson/Desktop/Research/EquitablePartitions/Data'"
      ]
     },
     "execution_count": 2,
     "metadata": {},
     "output_type": "execute_result"
    }
   ],
   "source": [
    "os.getcwd()"
   ]
  },
  {
   "cell_type": "markdown",
   "id": "245e496f",
   "metadata": {},
   "source": [
    "# Timing Social Networks"
   ]
  },
  {
   "cell_type": "code",
   "execution_count": 8,
   "id": "3bf6e58f",
   "metadata": {},
   "outputs": [],
   "source": [
    "os.chdir('Social_networks/git_web_ml')"
   ]
  },
  {
   "cell_type": "markdown",
   "id": "84da2604",
   "metadata": {},
   "source": [
    "## Git Hub"
   ]
  },
  {
   "cell_type": "code",
   "execution_count": null,
   "id": "227c2ac3",
   "metadata": {},
   "outputs": [],
   "source": [
    "git_df = pd.read_csv('musae_git_edges.csv')\n",
    "git_nx = nx.read_edgelist('musae_git_edges.csv',delimiter=',',comments='id_1')\n",
    "\n",
    "ours, naive, acc = graphs.DuelOfMethods(git_nx)\n",
    "\n",
    "times['git_hub'] = [naive,ours]"
   ]
  },
  {
   "cell_type": "code",
   "execution_count": null,
   "id": "06194bc1",
   "metadata": {},
   "outputs": [],
   "source": []
  }
 ],
 "metadata": {
  "kernelspec": {
   "display_name": "Python 3 (ipykernel)",
   "language": "python",
   "name": "python3"
  },
  "language_info": {
   "codemirror_mode": {
    "name": "ipython",
    "version": 3
   },
   "file_extension": ".py",
   "mimetype": "text/x-python",
   "name": "python",
   "nbconvert_exporter": "python",
   "pygments_lexer": "ipython3",
   "version": "3.10.8"
  }
 },
 "nbformat": 4,
 "nbformat_minor": 5
}
