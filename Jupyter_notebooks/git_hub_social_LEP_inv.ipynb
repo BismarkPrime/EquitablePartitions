{
 "cells": [
  {
   "cell_type": "code",
   "execution_count": 3,
   "id": "0ed8ea75",
   "metadata": {},
   "outputs": [],
   "source": [
    "import os\n",
    "os.chdir('../git_web_ml')"
   ]
  },
  {
   "cell_type": "code",
   "execution_count": 18,
   "id": "ae0998cb",
   "metadata": {},
   "outputs": [
    {
     "data": {
      "text/plain": [
       "['citing.txt',\n",
       " 'musae_git_edges.csv',\n",
       " 'musae_git_features.json',\n",
       " 'musae_git_target.csv',\n",
       " 'README.txt']"
      ]
     },
     "execution_count": 18,
     "metadata": {},
     "output_type": "execute_result"
    }
   ],
   "source": [
    "import pandas as pd\n",
    "import networkx as nx\n",
    "import csv\n",
    "os.listdir()"
   ]
  },
  {
   "cell_type": "code",
   "execution_count": 14,
   "id": "8a768e3f",
   "metadata": {},
   "outputs": [],
   "source": [
    "git_df = pd.read_csv('musae_git_edges.csv')"
   ]
  },
  {
   "cell_type": "code",
   "execution_count": 29,
   "id": "b1bd3842",
   "metadata": {},
   "outputs": [],
   "source": [
    "git_nx = nx.read_edgelist('musae_git_edges.csv',delimiter=',',comments='id_1')"
   ]
  },
  {
   "cell_type": "code",
   "execution_count": 34,
   "id": "27cef855",
   "metadata": {},
   "outputs": [],
   "source": [
    "os.chdir('..')"
   ]
  },
  {
   "cell_type": "code",
   "execution_count": 35,
   "id": "c8d4fbbe",
   "metadata": {},
   "outputs": [],
   "source": [
    "import os, sys\n",
    "from importlib import reload\n",
    "from matplotlib import pyplot as plt\n",
    "from tqdm import tqdm\n",
    "import networkx as nx\n",
    "import ep_finder, lep_finder, graphs"
   ]
  },
  {
   "cell_type": "code",
   "execution_count": 33,
   "id": "c3d728d8",
   "metadata": {},
   "outputs": [
    {
     "data": {
      "text/plain": [
       "'C:\\\\Users\\\\josep\\\\OneDrive\\\\Documents\\\\Para la Escuela\\\\Research\\\\Network Theory\\\\EquitablePartitions\\\\git_web_ml'"
      ]
     },
     "execution_count": 33,
     "metadata": {},
     "output_type": "execute_result"
    }
   ],
   "source": [
    "os.getcwd()"
   ]
  },
  {
   "cell_type": "code",
   "execution_count": 36,
   "id": "c56fa25e",
   "metadata": {},
   "outputs": [
    {
     "name": "stdout",
     "output_type": "stream",
     "text": [
      "Finding Coarsest EP...\n",
      " [####################################################################################################] 100%\n",
      "FINDING LEPS...\n",
      " [####################################################################################################] 100%\n"
     ]
    }
   ],
   "source": [
    "relabeledGraph = graphs.relabel(git_nx)\n",
    "ep_dict, lep_dict, coarsestAndLocal = lep_finder.getEquitablePartitions(relabeledGraph,progress_bars=True)"
   ]
  },
  {
   "cell_type": "code",
   "execution_count": 41,
   "id": "f43d52a2",
   "metadata": {},
   "outputs": [
    {
     "data": {
      "text/plain": [
       "37700"
      ]
     },
     "execution_count": 41,
     "metadata": {},
     "output_type": "execute_result"
    }
   ],
   "source": [
    "len(git_nx)"
   ]
  },
  {
   "cell_type": "code",
   "execution_count": 48,
   "id": "325e4fb5",
   "metadata": {},
   "outputs": [],
   "source": [
    "nontrivLeps = list(filter(lambda i: len(i)!=1,lep_dict))"
   ]
  },
  {
   "cell_type": "code",
   "execution_count": 50,
   "id": "cdc6cf6c",
   "metadata": {},
   "outputs": [
    {
     "data": {
      "text/plain": [
       "10"
      ]
     },
     "execution_count": 50,
     "metadata": {},
     "output_type": "execute_result"
    }
   ],
   "source": [
    "len(nontrivLeps)"
   ]
  }
 ],
 "metadata": {
  "kernelspec": {
   "display_name": "Python 3",
   "language": "python",
   "name": "python3"
  },
  "language_info": {
   "codemirror_mode": {
    "name": "ipython",
    "version": 3
   },
   "file_extension": ".py",
   "mimetype": "text/x-python",
   "name": "python",
   "nbconvert_exporter": "python",
   "pygments_lexer": "ipython3",
   "version": "3.9.5"
  }
 },
 "nbformat": 4,
 "nbformat_minor": 5
}
