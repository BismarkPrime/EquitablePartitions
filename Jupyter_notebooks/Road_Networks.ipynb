{
 "cells": [
  {
   "cell_type": "code",
   "execution_count": 1,
   "id": "fb1c6714",
   "metadata": {},
   "outputs": [],
   "source": [
    "import os, sys, csv\n",
    "import pandas as pd\n",
    "import networkx as nx\n",
    "from importlib import reload\n",
    "from inspect import getmembers, isfunction\n",
    "import numpy as np\n",
    "from importlib import reload\n",
    "from matplotlib import pyplot as plt\n",
    "from tqdm import tqdm\n",
    "\n",
    "os.chdir('..')\n",
    "\n",
    "import ep_finder, lep_finder, graphs, ep_utils"
   ]
  },
  {
   "cell_type": "code",
   "execution_count": 2,
   "id": "e51800bd",
   "metadata": {},
   "outputs": [],
   "source": [
    "#os.listdir()"
   ]
  },
  {
   "cell_type": "code",
   "execution_count": 3,
   "id": "d7838f54",
   "metadata": {},
   "outputs": [],
   "source": [
    "#os.getcwd()"
   ]
  },
  {
   "cell_type": "code",
   "execution_count": 4,
   "id": "a36cfbf6",
   "metadata": {},
   "outputs": [],
   "source": [
    "os.chdir('Data/Road_Networks')"
   ]
  },
  {
   "cell_type": "markdown",
   "id": "df38e982",
   "metadata": {},
   "source": [
    "# California Road Network Analysis:"
   ]
  },
  {
   "cell_type": "code",
   "execution_count": 13,
   "id": "68bb2ace",
   "metadata": {},
   "outputs": [],
   "source": [
    "# loaded in the graph\n",
    "#Cal_nx = graphs.relabel(nx.read_edgelist(\"roadNet-CA.txt.gz\"))\n",
    "#nx.write_gexf(Cal_nx,'./Cali_roads.gexf')\n",
    "# Now use this to get it\n",
    "Cal_nx = nx.read_gexf(\"Cali_roads.gexf\")"
   ]
  },
  {
   "cell_type": "code",
   "execution_count": null,
   "id": "3630f8c5",
   "metadata": {},
   "outputs": [],
   "source": [
    "#relabeledGraph = graphs.relabel(Cal_nx) \n",
    "# still need to relabel it? was relabeled upon loading it in???"
   ]
  },
  {
   "cell_type": "code",
   "execution_count": 14,
   "id": "2b1a6757",
   "metadata": {},
   "outputs": [
    {
     "name": "stdout",
     "output_type": "stream",
     "text": [
      "Finding Coarsest EP...\n",
      " [####################################################################################################] 100%"
     ]
    },
    {
     "ename": "KeyboardInterrupt",
     "evalue": "",
     "output_type": "error",
     "traceback": [
      "\u001b[0;31m---------------------------------------------------------------------------\u001b[0m",
      "\u001b[0;31mKeyboardInterrupt\u001b[0m                         Traceback (most recent call last)",
      "Cell \u001b[0;32mIn [14], line 1\u001b[0m\n\u001b[0;32m----> 1\u001b[0m ep_dict_cal, lep_list_cal,_ \u001b[38;5;241m=\u001b[39m \u001b[43mep_utils\u001b[49m\u001b[38;5;241;43m.\u001b[39;49m\u001b[43mgetEquitablePartitions\u001b[49m\u001b[43m(\u001b[49m\u001b[43mCal_nx\u001b[49m\u001b[43m)\u001b[49m\n",
      "File \u001b[0;32m~/Desktop/Research/EquitablePartitions/ep_utils.py:27\u001b[0m, in \u001b[0;36mgetEquitablePartitions\u001b[0;34m(G, timed, progress_bars)\u001b[0m\n\u001b[1;32m     25\u001b[0m start_time \u001b[38;5;241m=\u001b[39m time\u001b[38;5;241m.\u001b[39mtime()\n\u001b[1;32m     26\u001b[0m C, N \u001b[38;5;241m=\u001b[39m ep_finder\u001b[38;5;241m.\u001b[39minitialize(G)\n\u001b[0;32m---> 27\u001b[0m ep, N \u001b[38;5;241m=\u001b[39m \u001b[43mep_finder\u001b[49m\u001b[38;5;241;43m.\u001b[39;49m\u001b[43mequitablePartition\u001b[49m\u001b[43m(\u001b[49m\u001b[43mC\u001b[49m\u001b[43m,\u001b[49m\u001b[43m \u001b[49m\u001b[43mN\u001b[49m\u001b[43m,\u001b[49m\u001b[43m \u001b[49m\u001b[43mprogress_bar\u001b[49m\u001b[38;5;241;43m=\u001b[39;49m\u001b[43mprogress_bars\u001b[49m\u001b[43m)\u001b[49m\n\u001b[1;32m     28\u001b[0m coarsest \u001b[38;5;241m=\u001b[39m time\u001b[38;5;241m.\u001b[39mtime() \u001b[38;5;241m-\u001b[39m start_time\n\u001b[1;32m     29\u001b[0m start_time \u001b[38;5;241m=\u001b[39m time\u001b[38;5;241m.\u001b[39mtime()\n",
      "File \u001b[0;32m~/Desktop/Research/EquitablePartitions/ep_finder.py:513\u001b[0m, in \u001b[0;36mequitablePartition\u001b[0;34m(C, N, progress_bar)\u001b[0m\n\u001b[1;32m    509\u001b[0m         updateLoadingBar(progress \u001b[38;5;241m+\u001b[39m i \u001b[38;5;241m/\u001b[39m iters_per_percent)\n\u001b[1;32m    511\u001b[0m progress \u001b[38;5;241m+\u001b[39m\u001b[38;5;241m=\u001b[39m \u001b[38;5;241m25\u001b[39m\n\u001b[0;32m--> 513\u001b[0m C \u001b[38;5;241m=\u001b[39m \u001b[43mrecolor\u001b[49m\u001b[43m(\u001b[49m\u001b[43mC\u001b[49m\u001b[43m,\u001b[49m\u001b[43m \u001b[49m\u001b[43mL\u001b[49m\u001b[43m)\u001b[49m\n\u001b[1;32m    514\u001b[0m new_colors \u001b[38;5;241m=\u001b[39m temp_new_colors\n\u001b[1;32m    516\u001b[0m \u001b[38;5;66;03m# break condition\u001b[39;00m\n",
      "File \u001b[0;32m~/Desktop/Research/EquitablePartitions/ep_finder.py:444\u001b[0m, in \u001b[0;36mrecolor\u001b[0;34m(C, L)\u001b[0m\n\u001b[1;32m    441\u001b[0m \u001b[38;5;66;03m# make sure largest new color retains old color label\u001b[39;00m\n\u001b[1;32m    442\u001b[0m     \u001b[38;5;66;03m# i think this is just for reducing the complexity (because computeStructureSet will iterate through new colors; more efficient to iterate over fewer vertices)\u001b[39;00m\n\u001b[1;32m    443\u001b[0m \u001b[38;5;28;01mfor\u001b[39;00m c \u001b[38;5;129;01min\u001b[39;00m {v\u001b[38;5;241m.\u001b[39mf \u001b[38;5;28;01mfor\u001b[39;00m v \u001b[38;5;129;01min\u001b[39;00m L}: \u001b[38;5;66;03m# this for loop is so we don't repeat\u001b[39;00m\n\u001b[0;32m--> 444\u001b[0m     d \u001b[38;5;241m=\u001b[39m \u001b[38;5;28mmax\u001b[39m([(C[v\u001b[38;5;241m.\u001b[39mtemp_f]\u001b[38;5;241m.\u001b[39msize, v\u001b[38;5;241m.\u001b[39mtemp_f) \u001b[38;5;28;01mfor\u001b[39;00m v \u001b[38;5;129;01min\u001b[39;00m L \u001b[38;5;28;01mif\u001b[39;00m v\u001b[38;5;241m.\u001b[39mf \u001b[38;5;241m==\u001b[39m c])[\u001b[38;5;241m1\u001b[39m] \u001b[38;5;66;03m# index of largest new colorclasses from same previous colorclass\u001b[39;00m\n\u001b[1;32m    445\u001b[0m     \u001b[38;5;66;03m# if color d has more nodes than the original, switch their coloring\u001b[39;00m\n\u001b[1;32m    446\u001b[0m         \u001b[38;5;66;03m# WRONG: equally (i think), if c != d (since d has max size, then if c != d then C[c].size < C[d].size)\u001b[39;00m\n\u001b[1;32m    447\u001b[0m         \u001b[38;5;66;03m#   ...because if temp_f is different than f, then v.temp_f might not include c, so d not guaranteed to be max until compared with c\u001b[39;00m\n\u001b[1;32m    448\u001b[0m     \u001b[38;5;28;01mif\u001b[39;00m C[c]\u001b[38;5;241m.\u001b[39msize \u001b[38;5;241m<\u001b[39m C[d]\u001b[38;5;241m.\u001b[39msize:\n",
      "File \u001b[0;32m~/Desktop/Research/EquitablePartitions/ep_finder.py:444\u001b[0m, in \u001b[0;36m<listcomp>\u001b[0;34m(.0)\u001b[0m\n\u001b[1;32m    441\u001b[0m \u001b[38;5;66;03m# make sure largest new color retains old color label\u001b[39;00m\n\u001b[1;32m    442\u001b[0m     \u001b[38;5;66;03m# i think this is just for reducing the complexity (because computeStructureSet will iterate through new colors; more efficient to iterate over fewer vertices)\u001b[39;00m\n\u001b[1;32m    443\u001b[0m \u001b[38;5;28;01mfor\u001b[39;00m c \u001b[38;5;129;01min\u001b[39;00m {v\u001b[38;5;241m.\u001b[39mf \u001b[38;5;28;01mfor\u001b[39;00m v \u001b[38;5;129;01min\u001b[39;00m L}: \u001b[38;5;66;03m# this for loop is so we don't repeat\u001b[39;00m\n\u001b[0;32m--> 444\u001b[0m     d \u001b[38;5;241m=\u001b[39m \u001b[38;5;28mmax\u001b[39m([(C[v\u001b[38;5;241m.\u001b[39mtemp_f]\u001b[38;5;241m.\u001b[39msize, v\u001b[38;5;241m.\u001b[39mtemp_f) \u001b[38;5;28;01mfor\u001b[39;00m v \u001b[38;5;129;01min\u001b[39;00m L \u001b[38;5;28;01mif\u001b[39;00m v\u001b[38;5;241m.\u001b[39mf \u001b[38;5;241m==\u001b[39m c])[\u001b[38;5;241m1\u001b[39m] \u001b[38;5;66;03m# index of largest new colorclasses from same previous colorclass\u001b[39;00m\n\u001b[1;32m    445\u001b[0m     \u001b[38;5;66;03m# if color d has more nodes than the original, switch their coloring\u001b[39;00m\n\u001b[1;32m    446\u001b[0m         \u001b[38;5;66;03m# WRONG: equally (i think), if c != d (since d has max size, then if c != d then C[c].size < C[d].size)\u001b[39;00m\n\u001b[1;32m    447\u001b[0m         \u001b[38;5;66;03m#   ...because if temp_f is different than f, then v.temp_f might not include c, so d not guaranteed to be max until compared with c\u001b[39;00m\n\u001b[1;32m    448\u001b[0m     \u001b[38;5;28;01mif\u001b[39;00m C[c]\u001b[38;5;241m.\u001b[39msize \u001b[38;5;241m<\u001b[39m C[d]\u001b[38;5;241m.\u001b[39msize:\n",
      "\u001b[0;31mKeyboardInterrupt\u001b[0m: "
     ]
    }
   ],
   "source": [
    "ep_dict_cal, lep_list_cal,_ = ep_utils.getEquitablePartitions(Cal_nx)"
   ]
  },
  {
   "cell_type": "code",
   "execution_count": null,
   "id": "ef27600b",
   "metadata": {},
   "outputs": [],
   "source": [
    "nontEp, nontLep, perc = graphs.NontrivialityData(relabeledGraph, ep_dict_cal, lep_list_cal)"
   ]
  },
  {
   "cell_type": "markdown",
   "id": "63268406",
   "metadata": {},
   "source": [
    "# Network Analysis on Texas Road Network"
   ]
  },
  {
   "cell_type": "code",
   "execution_count": 5,
   "id": "d8a7f8e5",
   "metadata": {},
   "outputs": [],
   "source": [
    "# loaded in the graph\n",
    "#Tex_nx = graphs.relabel(nx.read_edgelist(\"roadNet-TX.txt.gz\"))\n",
    "#nx.write_gexf(Tex_nx,'./Tex_roads.gexf')\n",
    "# Now use this to get it\n",
    "Tex_nx = nx.read_gexf(\"Tex_roads.gexf\")"
   ]
  },
  {
   "cell_type": "code",
   "execution_count": 6,
   "id": "ad6c5d6d",
   "metadata": {},
   "outputs": [
    {
     "name": "stdout",
     "output_type": "stream",
     "text": [
      "Finding Coarsest EP...\n",
      " [################################################################################################### ] 99%"
     ]
    },
    {
     "ename": "KeyboardInterrupt",
     "evalue": "",
     "output_type": "error",
     "traceback": [
      "\u001b[0;31m---------------------------------------------------------------------------\u001b[0m",
      "\u001b[0;31mKeyboardInterrupt\u001b[0m                         Traceback (most recent call last)",
      "Cell \u001b[0;32mIn [6], line 1\u001b[0m\n\u001b[0;32m----> 1\u001b[0m ep_dict_cal, lep_list_cal,_ \u001b[38;5;241m=\u001b[39m \u001b[43mep_utils\u001b[49m\u001b[38;5;241;43m.\u001b[39;49m\u001b[43mgetEquitablePartitions\u001b[49m\u001b[43m(\u001b[49m\u001b[43mTex_nx\u001b[49m\u001b[43m)\u001b[49m\n",
      "File \u001b[0;32m~/Desktop/Research/EquitablePartitions/ep_utils.py:27\u001b[0m, in \u001b[0;36mgetEquitablePartitions\u001b[0;34m(G, timed, progress_bars)\u001b[0m\n\u001b[1;32m     25\u001b[0m start_time \u001b[38;5;241m=\u001b[39m time\u001b[38;5;241m.\u001b[39mtime()\n\u001b[1;32m     26\u001b[0m C, N \u001b[38;5;241m=\u001b[39m ep_finder\u001b[38;5;241m.\u001b[39minitialize(G)\n\u001b[0;32m---> 27\u001b[0m ep, N \u001b[38;5;241m=\u001b[39m \u001b[43mep_finder\u001b[49m\u001b[38;5;241;43m.\u001b[39;49m\u001b[43mequitablePartition\u001b[49m\u001b[43m(\u001b[49m\u001b[43mC\u001b[49m\u001b[43m,\u001b[49m\u001b[43m \u001b[49m\u001b[43mN\u001b[49m\u001b[43m,\u001b[49m\u001b[43m \u001b[49m\u001b[43mprogress_bar\u001b[49m\u001b[38;5;241;43m=\u001b[39;49m\u001b[43mprogress_bars\u001b[49m\u001b[43m)\u001b[49m\n\u001b[1;32m     28\u001b[0m coarsest \u001b[38;5;241m=\u001b[39m time\u001b[38;5;241m.\u001b[39mtime() \u001b[38;5;241m-\u001b[39m start_time\n\u001b[1;32m     29\u001b[0m start_time \u001b[38;5;241m=\u001b[39m time\u001b[38;5;241m.\u001b[39mtime()\n",
      "File \u001b[0;32m~/Desktop/Research/EquitablePartitions/ep_finder.py:513\u001b[0m, in \u001b[0;36mequitablePartition\u001b[0;34m(C, N, progress_bar)\u001b[0m\n\u001b[1;32m    509\u001b[0m         updateLoadingBar(progress \u001b[38;5;241m+\u001b[39m i \u001b[38;5;241m/\u001b[39m iters_per_percent)\n\u001b[1;32m    511\u001b[0m progress \u001b[38;5;241m+\u001b[39m\u001b[38;5;241m=\u001b[39m \u001b[38;5;241m25\u001b[39m\n\u001b[0;32m--> 513\u001b[0m C \u001b[38;5;241m=\u001b[39m \u001b[43mrecolor\u001b[49m\u001b[43m(\u001b[49m\u001b[43mC\u001b[49m\u001b[43m,\u001b[49m\u001b[43m \u001b[49m\u001b[43mL\u001b[49m\u001b[43m)\u001b[49m\n\u001b[1;32m    514\u001b[0m new_colors \u001b[38;5;241m=\u001b[39m temp_new_colors\n\u001b[1;32m    516\u001b[0m \u001b[38;5;66;03m# break condition\u001b[39;00m\n",
      "File \u001b[0;32m~/Desktop/Research/EquitablePartitions/ep_finder.py:444\u001b[0m, in \u001b[0;36mrecolor\u001b[0;34m(C, L)\u001b[0m\n\u001b[1;32m    441\u001b[0m \u001b[38;5;66;03m# make sure largest new color retains old color label\u001b[39;00m\n\u001b[1;32m    442\u001b[0m     \u001b[38;5;66;03m# i think this is just for reducing the complexity (because computeStructureSet will iterate through new colors; more efficient to iterate over fewer vertices)\u001b[39;00m\n\u001b[1;32m    443\u001b[0m \u001b[38;5;28;01mfor\u001b[39;00m c \u001b[38;5;129;01min\u001b[39;00m {v\u001b[38;5;241m.\u001b[39mf \u001b[38;5;28;01mfor\u001b[39;00m v \u001b[38;5;129;01min\u001b[39;00m L}: \u001b[38;5;66;03m# this for loop is so we don't repeat\u001b[39;00m\n\u001b[0;32m--> 444\u001b[0m     d \u001b[38;5;241m=\u001b[39m \u001b[38;5;28mmax\u001b[39m([(C[v\u001b[38;5;241m.\u001b[39mtemp_f]\u001b[38;5;241m.\u001b[39msize, v\u001b[38;5;241m.\u001b[39mtemp_f) \u001b[38;5;28;01mfor\u001b[39;00m v \u001b[38;5;129;01min\u001b[39;00m L \u001b[38;5;28;01mif\u001b[39;00m v\u001b[38;5;241m.\u001b[39mf \u001b[38;5;241m==\u001b[39m c])[\u001b[38;5;241m1\u001b[39m] \u001b[38;5;66;03m# index of largest new colorclasses from same previous colorclass\u001b[39;00m\n\u001b[1;32m    445\u001b[0m     \u001b[38;5;66;03m# if color d has more nodes than the original, switch their coloring\u001b[39;00m\n\u001b[1;32m    446\u001b[0m         \u001b[38;5;66;03m# WRONG: equally (i think), if c != d (since d has max size, then if c != d then C[c].size < C[d].size)\u001b[39;00m\n\u001b[1;32m    447\u001b[0m         \u001b[38;5;66;03m#   ...because if temp_f is different than f, then v.temp_f might not include c, so d not guaranteed to be max until compared with c\u001b[39;00m\n\u001b[1;32m    448\u001b[0m     \u001b[38;5;28;01mif\u001b[39;00m C[c]\u001b[38;5;241m.\u001b[39msize \u001b[38;5;241m<\u001b[39m C[d]\u001b[38;5;241m.\u001b[39msize:\n",
      "File \u001b[0;32m~/Desktop/Research/EquitablePartitions/ep_finder.py:444\u001b[0m, in \u001b[0;36m<listcomp>\u001b[0;34m(.0)\u001b[0m\n\u001b[1;32m    441\u001b[0m \u001b[38;5;66;03m# make sure largest new color retains old color label\u001b[39;00m\n\u001b[1;32m    442\u001b[0m     \u001b[38;5;66;03m# i think this is just for reducing the complexity (because computeStructureSet will iterate through new colors; more efficient to iterate over fewer vertices)\u001b[39;00m\n\u001b[1;32m    443\u001b[0m \u001b[38;5;28;01mfor\u001b[39;00m c \u001b[38;5;129;01min\u001b[39;00m {v\u001b[38;5;241m.\u001b[39mf \u001b[38;5;28;01mfor\u001b[39;00m v \u001b[38;5;129;01min\u001b[39;00m L}: \u001b[38;5;66;03m# this for loop is so we don't repeat\u001b[39;00m\n\u001b[0;32m--> 444\u001b[0m     d \u001b[38;5;241m=\u001b[39m \u001b[38;5;28mmax\u001b[39m([(C[v\u001b[38;5;241m.\u001b[39mtemp_f]\u001b[38;5;241m.\u001b[39msize, v\u001b[38;5;241m.\u001b[39mtemp_f) \u001b[38;5;28;01mfor\u001b[39;00m v \u001b[38;5;129;01min\u001b[39;00m L \u001b[38;5;28;01mif\u001b[39;00m v\u001b[38;5;241m.\u001b[39mf \u001b[38;5;241m==\u001b[39m c])[\u001b[38;5;241m1\u001b[39m] \u001b[38;5;66;03m# index of largest new colorclasses from same previous colorclass\u001b[39;00m\n\u001b[1;32m    445\u001b[0m     \u001b[38;5;66;03m# if color d has more nodes than the original, switch their coloring\u001b[39;00m\n\u001b[1;32m    446\u001b[0m         \u001b[38;5;66;03m# WRONG: equally (i think), if c != d (since d has max size, then if c != d then C[c].size < C[d].size)\u001b[39;00m\n\u001b[1;32m    447\u001b[0m         \u001b[38;5;66;03m#   ...because if temp_f is different than f, then v.temp_f might not include c, so d not guaranteed to be max until compared with c\u001b[39;00m\n\u001b[1;32m    448\u001b[0m     \u001b[38;5;28;01mif\u001b[39;00m C[c]\u001b[38;5;241m.\u001b[39msize \u001b[38;5;241m<\u001b[39m C[d]\u001b[38;5;241m.\u001b[39msize:\n",
      "\u001b[0;31mKeyboardInterrupt\u001b[0m: "
     ]
    }
   ],
   "source": [
    "ep_dict_cal, lep_list_cal,_ = ep_utils.getEquitablePartitions(Tex_nx)"
   ]
  },
  {
   "cell_type": "code",
   "execution_count": null,
   "id": "50f34e08",
   "metadata": {},
   "outputs": [],
   "source": []
  }
 ],
 "metadata": {
  "kernelspec": {
   "display_name": "Python 3 (ipykernel)",
   "language": "python",
   "name": "python3"
  },
  "language_info": {
   "codemirror_mode": {
    "name": "ipython",
    "version": 3
   },
   "file_extension": ".py",
   "mimetype": "text/x-python",
   "name": "python",
   "nbconvert_exporter": "python",
   "pygments_lexer": "ipython3",
   "version": "3.10.8"
  }
 },
 "nbformat": 4,
 "nbformat_minor": 5
}
