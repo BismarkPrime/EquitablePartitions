{
 "cells": [
  {
   "cell_type": "code",
   "execution_count": 43,
   "id": "790b04a7",
   "metadata": {},
   "outputs": [],
   "source": [
    "import numpy as np\n",
    "from matplotlib import pyplot as plt"
   ]
  },
  {
   "cell_type": "code",
   "execution_count": 32,
   "id": "bb3067f0",
   "metadata": {},
   "outputs": [],
   "source": [
    "test_dict = {0:[1,5,7,9],1:[2,4,3],2:[8,6,10],3:[11,12,13,14],4:[15,16]}\n"
   ]
  },
  {
   "cell_type": "code",
   "execution_count": 33,
   "id": "124164e5",
   "metadata": {},
   "outputs": [],
   "source": [
    "thing = np.array(list(test_dict.values()),dtype=object)"
   ]
  },
  {
   "cell_type": "code",
   "execution_count": 34,
   "id": "cafc5f56",
   "metadata": {},
   "outputs": [],
   "source": [
    "f = lambda x: len(x)\n",
    "f_vec = np.vectorize(f)"
   ]
  },
  {
   "cell_type": "code",
   "execution_count": 38,
   "id": "24b6b0a6",
   "metadata": {},
   "outputs": [
    {
     "name": "stdout",
     "output_type": "stream",
     "text": [
      "{2, 3, 4}\n"
     ]
    }
   ],
   "source": [
    "len_arr = f_vec(thing)\n",
    "lengths = set(len_arr)\n",
    "print(lengths)"
   ]
  },
  {
   "cell_type": "code",
   "execution_count": 48,
   "id": "2fb507c1",
   "metadata": {},
   "outputs": [
    {
     "data": {
      "text/plain": [
       "(array([1., 2., 2.]),\n",
       " array([2.        , 2.66666667, 3.33333333, 4.        ]),\n",
       " <BarContainer object of 3 artists>)"
      ]
     },
     "execution_count": 48,
     "metadata": {},
     "output_type": "execute_result"
    },
    {
     "data": {
      "image/png": "[encoded data removed]",
      "text/plain": [
       "<Figure size 640x480 with 1 Axes>"
      ]
     },
     "metadata": {},
     "output_type": "display_data"
    }
   ],
   "source": [
    "# hopefully this is faster with some broadcasting and vectorized functions\n",
    "hist_dict = {}\n",
    "for length in lengths:\n",
    "    mask = len_arr == length\n",
    "    hist_dict[length] = sum(mask)\n",
    "\n",
    "hist_dict\n",
    "plt.hist(lengths,weights=hist_dict.values(),bins=(len(lengths)),edgecolor=\"black\")"
   ]
  },
  {
   "cell_type": "code",
   "execution_count": 36,
   "id": "5e9beb46",
   "metadata": {},
   "outputs": [
    {
     "data": {
      "text/plain": [
       "array([4, 4])"
      ]
     },
     "execution_count": 36,
     "metadata": {},
     "output_type": "execute_result"
    }
   ],
   "source": [
    "arr[arr==4]"
   ]
  },
  {
   "cell_type": "code",
   "execution_count": null,
   "id": "6bd0c750",
   "metadata": {},
   "outputs": [],
   "source": [
    "# Need three things:\n",
    "# 1) counted"
   ]
  }
 ],
 "metadata": {
  "kernelspec": {
   "display_name": "Python 3 (ipykernel)",
   "language": "python",
   "name": "python3"
  },
  "language_info": {
   "codemirror_mode": {
    "name": "ipython",
    "version": 3
   },
   "file_extension": ".py",
   "mimetype": "text/x-python",
   "name": "python",
   "nbconvert_exporter": "python",
   "pygments_lexer": "ipython3",
   "version": "3.10.6"
  }
 },
 "nbformat": 4,
 "nbformat_minor": 5
}
