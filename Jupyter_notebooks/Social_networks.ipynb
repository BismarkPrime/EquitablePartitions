{
 "cells": [
  {
   "cell_type": "code",
   "execution_count": 1,
   "id": "a98a2249",
   "metadata": {},
   "outputs": [
    {
     "data": {
      "text/plain": [
       "'C:\\\\Users\\\\josep\\\\OneDrive\\\\Documents\\\\Para la Escuela\\\\Research\\\\Network Theory\\\\EquitablePartitions\\\\Jupyter_notebooks'"
      ]
     },
     "execution_count": 1,
     "metadata": {},
     "output_type": "execute_result"
    }
   ],
   "source": [
    "#Brother moody 385-208-2201\n",
    "import os\n",
    "os.getcwd()"
   ]
  },
  {
   "cell_type": "code",
   "execution_count": 2,
   "id": "0ed8ea75",
   "metadata": {},
   "outputs": [],
   "source": [
    "import os,sys\n",
    "os.chdir('../Data/git_web_ml')\n",
    "#os.getcwd()"
   ]
  },
  {
   "cell_type": "code",
   "execution_count": 3,
   "id": "ae0998cb",
   "metadata": {},
   "outputs": [],
   "source": [
    "import pandas as pd\n",
    "import networkx as nx\n",
    "from importlib import reload\n",
    "import inspect\n",
    "import csv\n",
    "import sys\n",
    "#os.listdir()"
   ]
  },
  {
   "cell_type": "code",
   "execution_count": 15,
   "id": "9e2069bf",
   "metadata": {},
   "outputs": [
    {
     "data": {
      "text/plain": [
       "<module 'graphs' from 'C:\\\\Users\\\\josep\\\\OneDrive\\\\Documents\\\\Para la Escuela\\\\Research\\\\Network Theory\\\\EquitablePartitions\\\\graphs.py'>"
      ]
     },
     "execution_count": 15,
     "metadata": {},
     "output_type": "execute_result"
    }
   ],
   "source": [
    "#reloading cell\n",
    "reload(graphs)\n",
    "#delete if necessary\n",
    "#del sys.modules['graphs']"
   ]
  },
  {
   "cell_type": "code",
   "execution_count": 4,
   "id": "901afec4",
   "metadata": {},
   "outputs": [],
   "source": [
    "# use this to get the function list of a module\n",
    "from inspect import getmembers, isfunction\n",
    "#function_list = getmembers(sys.modules['networkx'],isfunction)"
   ]
  },
  {
   "cell_type": "markdown",
   "id": "d3d11667",
   "metadata": {},
   "source": [
    "# Git Hub Social Network"
   ]
  },
  {
   "cell_type": "code",
   "execution_count": 4,
   "id": "8a768e3f",
   "metadata": {},
   "outputs": [],
   "source": [
    "git_df = pd.read_csv('musae_git_edges.csv')"
   ]
  },
  {
   "cell_type": "code",
   "execution_count": 5,
   "id": "b1bd3842",
   "metadata": {},
   "outputs": [],
   "source": [
    "git_nx = nx.read_edgelist('musae_git_edges.csv',delimiter=',',comments='id_1')"
   ]
  },
  {
   "cell_type": "code",
   "execution_count": 6,
   "id": "27cef855",
   "metadata": {},
   "outputs": [],
   "source": [
    "os.chdir('../..')"
   ]
  },
  {
   "cell_type": "code",
   "execution_count": 7,
   "id": "c8d4fbbe",
   "metadata": {},
   "outputs": [],
   "source": [
    "import numpy as np\n",
    "import os, sys\n",
    "from importlib import reload\n",
    "from matplotlib import pyplot as plt\n",
    "from tqdm import tqdm\n",
    "import networkx as nx\n",
    "import ep_finder, lep_finder, graphs"
   ]
  },
  {
   "cell_type": "code",
   "execution_count": 8,
   "id": "c56fa25e",
   "metadata": {},
   "outputs": [
    {
     "name": "stdout",
     "output_type": "stream",
     "text": [
      "Finding Coarsest EP...\n",
      " [####################################################################################################] 100%\n",
      "FINDING LEPS...\n",
      " [####################################################################################################] 100%\n"
     ]
    }
   ],
   "source": [
    "relabeledGraph = graphs.relabel(git_nx)\n",
    "ep_dict, lep_list, coarsestAndLocal = lep_finder.getEquitablePartitions(relabeledGraph,progress_bars=True)"
   ]
  },
  {
   "cell_type": "code",
   "execution_count": 11,
   "id": "f43d52a2",
   "metadata": {},
   "outputs": [
    {
     "data": {
      "text/plain": [
       "37700"
      ]
     },
     "execution_count": 11,
     "metadata": {},
     "output_type": "execute_result"
    }
   ],
   "source": [
    "# total number of nodes in network\n",
    "len(git_nx)"
   ]
  },
  {
   "cell_type": "code",
   "execution_count": 16,
   "id": "325e4fb5",
   "metadata": {},
   "outputs": [
    {
     "name": "stdout",
     "output_type": "stream",
     "text": [
      "Nontrivial nodes progress:287/681\n"
     ]
    },
    {
     "data": {
      "image/png": "[encoded data removed]",
      "text/plain": [
       "<Figure size 432x288 with 2 Axes>"
      ]
     },
     "metadata": {
      "needs_background": "light"
     },
     "output_type": "display_data"
    }
   ],
   "source": [
    "nontrivEp_dict_git,nontrivLep_list_git,hist_list, perc = graphs.NontrivialityData(git_nx,ep_dict,lep_list,return_vals=True)"
   ]
  },
  {
   "cell_type": "code",
   "execution_count": 16,
   "id": "c44f0246",
   "metadata": {},
   "outputs": [],
   "source": [
    "#nontrivLep_list_git"
   ]
  },
  {
   "cell_type": "markdown",
   "id": "dfe9fa7a",
   "metadata": {},
   "source": [
    "# Local Decomposition of Dolores:"
   ]
  },
  {
   "cell_type": "code",
   "execution_count": 12,
   "id": "c1ab873d",
   "metadata": {},
   "outputs": [],
   "source": [
    "Dolores = graphs.getDolores()\n",
    "relabeledDol = graphs.relabel(Dolores)\n",
    "ep_dict, lep_list, coasestAndLocal = lep_finder.getEquitablePartitions(relabeledDol,progress_bars=False)"
   ]
  },
  {
   "cell_type": "code",
   "execution_count": 13,
   "id": "4ae80b95",
   "metadata": {},
   "outputs": [
    {
     "name": "stdout",
     "output_type": "stream",
     "text": [
      "Local spectrum decomposition: \n",
      "\n",
      "({'Original Graph Divisor': array([-3.465+0.j, -2.575+0.j,  3.695+0.j,  2.715+0.j,  1.793+0.j,\n",
      "       -0.897+0.j,  0.519+0.j,  0.214+0.j]),\n",
      "  '{0, 3}': array([ 2.303+0.j,  2.115+0.j, -1.861+0.j, -0.254+0.j, -1.303+0.j,\n",
      "       -1.   +0.j,  1.   +0.j, -1.   +0.j]),\n",
      "  '{0, 3} Divisor': array([ 2.303+0.j, -1.303+0.j]),\n",
      "  '{1, 4}': array([-2.   +0.j, -1.414+0.j, -0.   +0.j,  2.   +0.j,  1.414+0.j,\n",
      "       -1.414+0.j, -0.   +0.j,  1.414+0.j]),\n",
      "  '{1, 4} Divisor': array([ 2.+0.j, -2.+0.j]),\n",
      "  '{2, 6}': array([ 2.+0.j,  1.+0.j, -2.+0.j,  1.+0.j, -1.+0.j, -1.+0.j]),\n",
      "  '{2, 6} Divisor': array([-1.+0.j,  2.+0.j]),\n",
      "  '{5}': array([0.+0.j]),\n",
      "  '{5} Divisor': array([0.+0.j]),\n",
      "  '{7}': array([0.+0.j]),\n",
      "  '{7} Divisor': array([0.+0.j])},\n",
      " array([ 3.695+0.j, -3.465+0.j,  2.715+0.j, -2.575+0.j,  2.115+0.j,\n",
      "        1.793+0.j, -1.861+0.j, -0.254+0.j,  0.214+0.j,  0.519+0.j,\n",
      "       -0.897+0.j, -2.   +0.j, -0.   +0.j, -1.414+0.j, -1.414+0.j,\n",
      "        1.414+0.j,  1.414+0.j, -0.   +0.j, -1.   +0.j, -1.   +0.j,\n",
      "       -1.   +0.j,  1.   +0.j,  1.   +0.j,  1.   +0.j]))\n",
      "\n",
      "\n",
      "full spectrum: \n",
      "\n",
      "[(3.695+0j),\n",
      " (-3.465+0j),\n",
      " (2.715+0j),\n",
      " (-2.575+0j),\n",
      " (2.115+0j),\n",
      " (1.793+0j),\n",
      " (-1.861+0j),\n",
      " (-0.254+0j),\n",
      " (0.214+0j),\n",
      " (0.519+0j),\n",
      " (-0.897+0j),\n",
      " (-2+0j),\n",
      " (-0+0j),\n",
      " (-1.414+0j),\n",
      " (-1.414+0j),\n",
      " (1.414+0j),\n",
      " (1.414+0j),\n",
      " (-0+0j),\n",
      " (-1+0j),\n",
      " (-1+0j),\n",
      " (-1+0j),\n",
      " (1+0j),\n",
      " (1+0j),\n",
      " (1+0j)]\n"
     ]
    }
   ],
   "source": [
    "import pprint\n",
    "fullSpec = np.round(nx.adjacency_spectrum(relabeledDol),3)\n",
    "dolDivSpec = np.round(nx.adjacency_spectrum(graphs.genDivGraph(relabeledDol,ep_dict),3))\n",
    "\n",
    "localSpec = graphs.GetLocalSpec(relabeledDol,ep_dict,lep_list)\n",
    "againGDiv = graphs.genDivGraph(relabeledDol,ep_dict)\n",
    "\n",
    "pretty = pprint.PrettyPrinter(width=30)\n",
    "print(\"Local spectrum decomposition: \\n\")\n",
    "pretty.pprint(localSpec)\n",
    "print('\\n')\n",
    "print(\"full spectrum: \\n\")\n",
    "pretty.pprint(list(fullSpec))"
   ]
  },
  {
   "cell_type": "markdown",
   "id": "9c615a53",
   "metadata": {},
   "source": [
    "| Total Graph Spectrum | LEP1 {0,3} | LEP2 {1,4} | LEP3 {2,6} | LEP4 {5} | LEP {7} |\n",
    "| -------------------- | ---------- | ---------- | ---------- | -------- | ------- |\n",
    "|          1           | ---------- | ---------- | ---------- | -------- | ------- |\n",
    "|          1           | ---------- | ---------- | ---------- | -------- | ------- |\n",
    "|          1           | ---------- | ---------- | ---------- | -------- | ------- |\n",
    "|         -1           | ---------- | ---------- | ---------- | -------- | ------- |\n",
    "|         -1           | ---------- | ---------- | ---------- | -------- | ------- |\n",
    "|         -1           | ---------- | ---------- | ---------- | -------- | ------- |\n",
    "| -------------------- | ---------- | ---------- | ---------- | -------- | ------- |\n",
    "| -------------------- | ---------- | ---------- | ---------- | -------- | ------- |\n",
    "| -------------------- | ---------- | ---------- | ---------- | -------- | ------- |\n",
    "| -------------------- | ---------- | ---------- | ---------- | -------- | ------- |\n",
    "| -------------------- | ---------- | ---------- | ---------- | -------- | ------- |\n",
    "| -------------------- | ---------- | ---------- | ---------- | -------- | ------- |\n",
    "| -------------------- | ---------- | ---------- | ---------- | -------- | ------- |\n",
    "| -------------------- | ---------- | ---------- | ---------- | -------- | ------- |\n",
    "| -------------------- | ---------- | ---------- | ---------- | -------- | ------- |\n",
    "| -------------------- | ---------- | ---------- | ---------- | -------- | ------- |\n",
    "| -------------------- | ---------- | ---------- | ---------- | -------- | ------- |\n",
    "| -------------------- | ---------- | ---------- | ---------- | -------- | ------- |\n",
    "| -------------------- | ---------- | ---------- | ---------- | -------- | ------- |\n",
    "| -------------------- | ---------- | ---------- | ---------- | -------- | ------- |\n",
    "| -------------------- | ---------- | ---------- | ---------- | -------- | ------- |\n",
    "| -------------------- | ---------- | ---------- | ---------- | -------- | ------- |\n",
    "| -------------------- | ---------- | ---------- | ---------- | -------- | ------- |\n",
    "| -------------------- | ---------- | ---------- | ---------- | -------- | ------- |\n",
    "\n",
    "\n"
   ]
  },
  {
   "cell_type": "code",
   "execution_count": 14,
   "id": "5f0c90f3",
   "metadata": {},
   "outputs": [
    {
     "name": "stdout",
     "output_type": "stream",
     "text": [
      "Finding Coarsest EP...\n",
      "\r",
      " [                                                                                                    ] 0%\r",
      " [#########################                                                                           ] 25%\r",
      " [#################################                                                                   ] 33%\r",
      " [#########################################                                                           ] 41%\r",
      " [##################################################                                                  ] 50%\r",
      " [########################################################                                            ] 56%\r",
      " [##############################################################                                      ] 62%\r",
      " [####################################################################                                ] 68%\r",
      " [####################################################################################################] 100%\n",
      "FINDING LEPS...\n",
      "\r",
      " [                                                                                                    ] 0%\r",
      " [##                                                                                                  ] 2%\r",
      " [##############################################################################                      ] 78%\r",
      " [################################################################################################    ] 96%\r",
      " [##################################################################################################  ] 98%\r",
      " [####################################################################################################] 100%\n"
     ]
    }
   ],
   "source": [
    "ep_dict, lep_list, coarsestAndLocal = lep_finder.getEquitablePartitions(relabeledDol,progress_bars=True)"
   ]
  },
  {
   "cell_type": "code",
   "execution_count": 15,
   "id": "fe2b4b07",
   "metadata": {},
   "outputs": [
    {
     "name": "stdout",
     "output_type": "stream",
     "text": [
      "Nontrivial nodes progress:2/3\n",
      "Total percentage on nontrivial nodes: 0.9166666666666666\n",
      "Total pairs in partition elements: 2\n",
      "Percentage of nontrivial nodes in pairs: 0.18181818181818182\n"
     ]
    },
    {
     "data": {
      "image/png": "[encoded data removed]",
      "text/plain": [
       "<Figure size 432x288 with 1 Axes>"
      ]
     },
     "metadata": {
      "needs_background": "light"
     },
     "output_type": "display_data"
    },
    {
     "ename": "TypeError",
     "evalue": "cannot unpack non-iterable NoneType object",
     "output_type": "error",
     "traceback": [
      "\u001b[1;31m---------------------------------------------------------------------------\u001b[0m",
      "\u001b[1;31mTypeError\u001b[0m                                 Traceback (most recent call last)",
      "\u001b[1;32m<ipython-input-15-fe715b609108>\u001b[0m in \u001b[0;36m<module>\u001b[1;34m\u001b[0m\n\u001b[1;32m----> 1\u001b[1;33m \u001b[0mnontEP_dict_dol\u001b[0m\u001b[1;33m,\u001b[0m\u001b[0mnontLEP_list_dol\u001b[0m\u001b[1;33m,\u001b[0m \u001b[0mperc_dol\u001b[0m \u001b[1;33m=\u001b[0m \u001b[0mgraphs\u001b[0m\u001b[1;33m.\u001b[0m\u001b[0mNontrivialityData\u001b[0m\u001b[1;33m(\u001b[0m\u001b[0mrelabeledDol\u001b[0m\u001b[1;33m,\u001b[0m\u001b[0mep_dict\u001b[0m\u001b[1;33m,\u001b[0m\u001b[0mlep_list\u001b[0m\u001b[1;33m)\u001b[0m\u001b[1;33m\u001b[0m\u001b[1;33m\u001b[0m\u001b[0m\n\u001b[0m",
      "\u001b[1;31mTypeError\u001b[0m: cannot unpack non-iterable NoneType object"
     ]
    }
   ],
   "source": [
    "nontEP_dict_dol,nontLEP_list_dol, perc_dol = graphs.NontrivialityData(relabeledDol,ep_dict,lep_list)"
   ]
  },
  {
   "cell_type": "markdown",
   "id": "94547bc0",
   "metadata": {},
   "source": [
    "# Facebook Graph Analysis:"
   ]
  },
  {
   "cell_type": "code",
   "execution_count": 14,
   "id": "542a3e39",
   "metadata": {},
   "outputs": [
    {
     "ename": "FileNotFoundError",
     "evalue": "[Errno 2] No such file or directory: 'facebook_combined.txt'",
     "output_type": "error",
     "traceback": [
      "\u001b[1;31m---------------------------------------------------------------------------\u001b[0m",
      "\u001b[1;31mFileNotFoundError\u001b[0m                         Traceback (most recent call last)",
      "\u001b[1;32m<ipython-input-14-b69af6c729d1>\u001b[0m in \u001b[0;36m<module>\u001b[1;34m\u001b[0m\n\u001b[0;32m      1\u001b[0m \u001b[1;31m#os.chdir('Data')\u001b[0m\u001b[1;33m\u001b[0m\u001b[1;33m\u001b[0m\u001b[1;33m\u001b[0m\u001b[0m\n\u001b[1;32m----> 2\u001b[1;33m \u001b[0mfacebookG\u001b[0m \u001b[1;33m=\u001b[0m \u001b[0mgraphs\u001b[0m\u001b[1;33m.\u001b[0m\u001b[0mgetFacebookGraph\u001b[0m\u001b[1;33m(\u001b[0m\u001b[1;33m)\u001b[0m\u001b[1;33m\u001b[0m\u001b[1;33m\u001b[0m\u001b[0m\n\u001b[0m",
      "\u001b[1;32m~\\OneDrive\\Documents\\Para la Escuela\\Research\\Network Theory\\EquitablePartitions\\graphs.py\u001b[0m in \u001b[0;36mgetFacebookGraph\u001b[1;34m()\u001b[0m\n\u001b[0;32m    156\u001b[0m     \u001b[1;31m# G.add_edges_from(edge_list)\u001b[0m\u001b[1;33m\u001b[0m\u001b[1;33m\u001b[0m\u001b[1;33m\u001b[0m\u001b[0m\n\u001b[0;32m    157\u001b[0m \u001b[1;33m\u001b[0m\u001b[0m\n\u001b[1;32m--> 158\u001b[1;33m     \u001b[1;32mreturn\u001b[0m \u001b[0mnx\u001b[0m\u001b[1;33m.\u001b[0m\u001b[0mread_edgelist\u001b[0m\u001b[1;33m(\u001b[0m\u001b[1;34m\"facebook_combined.txt\"\u001b[0m\u001b[1;33m,\u001b[0m \u001b[0mnodetype\u001b[0m\u001b[1;33m=\u001b[0m\u001b[0mint\u001b[0m\u001b[1;33m)\u001b[0m\u001b[1;33m\u001b[0m\u001b[1;33m\u001b[0m\u001b[0m\n\u001b[0m\u001b[0;32m    159\u001b[0m \u001b[1;33m\u001b[0m\u001b[0m\n\u001b[0;32m    160\u001b[0m \u001b[1;32mdef\u001b[0m \u001b[0mgetDolores\u001b[0m\u001b[1;33m(\u001b[0m\u001b[0mretMat\u001b[0m\u001b[1;33m=\u001b[0m\u001b[1;32mFalse\u001b[0m\u001b[1;33m)\u001b[0m\u001b[1;33m:\u001b[0m\u001b[1;33m\u001b[0m\u001b[1;33m\u001b[0m\u001b[0m\n",
      "\u001b[1;32m<decorator-gen-767>\u001b[0m in \u001b[0;36mread_edgelist\u001b[1;34m(path, comments, delimiter, create_using, nodetype, data, edgetype, encoding)\u001b[0m\n",
      "\u001b[1;32mc:\\users\\josep\\appdata\\local\\programs\\python\\python39\\lib\\site-packages\\networkx\\utils\\decorators.py\u001b[0m in \u001b[0;36m_open_file\u001b[1;34m(func_to_be_decorated, *args, **kwargs)\u001b[0m\n\u001b[0;32m    211\u001b[0m         \u001b[1;32mif\u001b[0m \u001b[0misinstance\u001b[0m\u001b[1;33m(\u001b[0m\u001b[0mpath\u001b[0m\u001b[1;33m,\u001b[0m \u001b[0mstr\u001b[0m\u001b[1;33m)\u001b[0m\u001b[1;33m:\u001b[0m\u001b[1;33m\u001b[0m\u001b[1;33m\u001b[0m\u001b[0m\n\u001b[0;32m    212\u001b[0m             \u001b[0mext\u001b[0m \u001b[1;33m=\u001b[0m \u001b[0msplitext\u001b[0m\u001b[1;33m(\u001b[0m\u001b[0mpath\u001b[0m\u001b[1;33m)\u001b[0m\u001b[1;33m[\u001b[0m\u001b[1;36m1\u001b[0m\u001b[1;33m]\u001b[0m\u001b[1;33m\u001b[0m\u001b[1;33m\u001b[0m\u001b[0m\n\u001b[1;32m--> 213\u001b[1;33m             \u001b[0mfobj\u001b[0m \u001b[1;33m=\u001b[0m \u001b[0m_dispatch_dict\u001b[0m\u001b[1;33m[\u001b[0m\u001b[0mext\u001b[0m\u001b[1;33m]\u001b[0m\u001b[1;33m(\u001b[0m\u001b[0mpath\u001b[0m\u001b[1;33m,\u001b[0m \u001b[0mmode\u001b[0m\u001b[1;33m=\u001b[0m\u001b[0mmode\u001b[0m\u001b[1;33m)\u001b[0m\u001b[1;33m\u001b[0m\u001b[1;33m\u001b[0m\u001b[0m\n\u001b[0m\u001b[0;32m    214\u001b[0m             \u001b[0mclose_fobj\u001b[0m \u001b[1;33m=\u001b[0m \u001b[1;32mTrue\u001b[0m\u001b[1;33m\u001b[0m\u001b[1;33m\u001b[0m\u001b[0m\n\u001b[0;32m    215\u001b[0m         \u001b[1;32melif\u001b[0m \u001b[0mhasattr\u001b[0m\u001b[1;33m(\u001b[0m\u001b[0mpath\u001b[0m\u001b[1;33m,\u001b[0m \u001b[1;34m\"read\"\u001b[0m\u001b[1;33m)\u001b[0m\u001b[1;33m:\u001b[0m\u001b[1;33m\u001b[0m\u001b[1;33m\u001b[0m\u001b[0m\n",
      "\u001b[1;31mFileNotFoundError\u001b[0m: [Errno 2] No such file or directory: 'facebook_combined.txt'"
     ]
    }
   ],
   "source": [
    "#os.chdir('Data')\n",
    "facebookG = graphs.getFacebookGraph()"
   ]
  },
  {
   "cell_type": "code",
   "execution_count": 25,
   "id": "4b5ef35b",
   "metadata": {},
   "outputs": [
    {
     "name": "stdout",
     "output_type": "stream",
     "text": [
      "Finding Coarsest EP...\n",
      " [####################################################################################################] 100%\n",
      "FINDING LEPS...\n",
      " [####################################################################################################] 100%\n"
     ]
    }
   ],
   "source": [
    "relabeledGraph = graphs.relabel(facebookG)\n",
    "ep_dict, lep_list, coarsestAndLocal = lep_finder.getEquitablePartitions(relabeledGraph,progress_bars=True)"
   ]
  },
  {
   "cell_type": "code",
   "execution_count": 26,
   "id": "7fdd3248",
   "metadata": {},
   "outputs": [
    {
     "name": "stdout",
     "output_type": "stream",
     "text": [
      "Filtering leps progress: 2326/3865\n"
     ]
    },
    {
     "name": "stderr",
     "output_type": "stream",
     "text": [
      "IOPub message rate exceeded.\n",
      "The notebook server will temporarily stop sending output\n",
      "to the client in order to avoid crashing it.\n",
      "To change this limit, set the config variable\n",
      "`--NotebookApp.iopub_msg_rate_limit`.\n",
      "\n",
      "Current values:\n",
      "NotebookApp.iopub_msg_rate_limit=1000.0 (msgs/sec)\n",
      "NotebookApp.rate_limit_window=3.0 (secs)\n",
      "\n"
     ]
    }
   ],
   "source": [
    "nontrivEp_dict,nontrivLep_list, perc = graphs.NontrivialityData(relabeledGraph,ep_dict,lep_list)"
   ]
  },
  {
   "cell_type": "code",
   "execution_count": 27,
   "id": "6ac399e2",
   "metadata": {},
   "outputs": [
    {
     "data": {
      "text/plain": [
       "0.06288685318148056"
      ]
     },
     "execution_count": 27,
     "metadata": {},
     "output_type": "execute_result"
    }
   ],
   "source": [
    "perc"
   ]
  },
  {
   "cell_type": "markdown",
   "id": "f2fdad72",
   "metadata": {},
   "source": [
    "# Google Plus Network Analysis"
   ]
  },
  {
   "cell_type": "markdown",
   "id": "d900463b",
   "metadata": {},
   "source": [
    "## Note: this one is huge and takes jupyter a long time to do anything with start when have more time."
   ]
  },
  {
   "cell_type": "code",
   "execution_count": 35,
   "id": "1e7071b9",
   "metadata": {},
   "outputs": [
    {
     "data": {
      "text/plain": [
       "'C:\\\\Users\\\\josep\\\\OneDrive\\\\Documents\\\\Para la Escuela\\\\Research\\\\Network Theory\\\\EquitablePartitions\\\\Data'"
      ]
     },
     "execution_count": 35,
     "metadata": {},
     "output_type": "execute_result"
    }
   ],
   "source": [
    "\n",
    "\n",
    "os.getcwd()"
   ]
  },
  {
   "cell_type": "code",
   "execution_count": null,
   "id": "18dd0d81",
   "metadata": {},
   "outputs": [],
   "source": [
    "# This cell kills computers because of the size of the graph, tenga cuidado\n",
    "#gPlusNet = nx.read_edgelist(\"gplus_combined.txt.gz\",create_using=nx.DiGraph)"
   ]
  },
  {
   "cell_type": "code",
   "execution_count": null,
   "id": "4cb2b88b",
   "metadata": {},
   "outputs": [],
   "source": [
    "relabeledGraph = graphs.relabel(gPlusNet)"
   ]
  },
  {
   "cell_type": "code",
   "execution_count": null,
   "id": "66a31a0e",
   "metadata": {},
   "outputs": [],
   "source": [
    "ep_dict, lep_list, coarsestAndLocal = lep_finder.getEquitablePartitions(relabeledGraph,progress_bars=True)"
   ]
  },
  {
   "cell_type": "markdown",
   "id": "4815607b",
   "metadata": {},
   "source": [
    "# Twitter Network Analysis:"
   ]
  },
  {
   "cell_type": "code",
   "execution_count": 26,
   "id": "2fe8cd39",
   "metadata": {},
   "outputs": [],
   "source": [
    "os.chdir('Data/Social_Networks')"
   ]
  },
  {
   "cell_type": "code",
   "execution_count": 37,
   "id": "bc66368a",
   "metadata": {},
   "outputs": [
    {
     "data": {
      "text/plain": [
       "81306"
      ]
     },
     "execution_count": 37,
     "metadata": {},
     "output_type": "execute_result"
    }
   ],
   "source": [
    "len(twitterNet)"
   ]
  },
  {
   "cell_type": "code",
   "execution_count": 38,
   "id": "5e2719ac",
   "metadata": {},
   "outputs": [
    {
     "data": {
      "text/plain": [
       "0.1506407891176543"
      ]
     },
     "execution_count": 38,
     "metadata": {},
     "output_type": "execute_result"
    }
   ],
   "source": [
    "12248/81306"
   ]
  },
  {
   "cell_type": "code",
   "execution_count": 35,
   "id": "19d3a382",
   "metadata": {},
   "outputs": [],
   "source": [
    "twitterNet = nx.read_edgelist(\"twitter_combined.txt.gz\",create_using=nx.DiGraph)"
   ]
  },
  {
   "cell_type": "code",
   "execution_count": 36,
   "id": "92bb9e73",
   "metadata": {},
   "outputs": [
    {
     "name": "stdout",
     "output_type": "stream",
     "text": [
      "12248\n"
     ]
    }
   ],
   "source": [
    "# getting strongly connected components\n",
    "total=0\n",
    "for part in nx.strongly_connected_components(twitterNet):\n",
    "    total+=1\n",
    "print(total)"
   ]
  },
  {
   "cell_type": "code",
   "execution_count": 40,
   "id": "17549d85",
   "metadata": {},
   "outputs": [],
   "source": [
    "relabeledGraph = graphs.relabel(twitterNet)"
   ]
  },
  {
   "cell_type": "code",
   "execution_count": 41,
   "id": "f19afa5b",
   "metadata": {},
   "outputs": [
    {
     "name": "stdout",
     "output_type": "stream",
     "text": [
      "Finding Coarsest EP...\n",
      " [####################################################################################################] 100%\n",
      "FINDING LEPS...\n",
      " [####################################################################################################] 100%\n"
     ]
    }
   ],
   "source": [
    "ep_dict, lep_list, coarsestAndLocal = lep_finder.getEquitablePartitions(relabeledGraph, progress_bars=True)"
   ]
  },
  {
   "cell_type": "code",
   "execution_count": 31,
   "id": "a16c3b1a",
   "metadata": {},
   "outputs": [],
   "source": [
    "# QUESTION: can singletons all be in one lep but all in their own ep partition element?"
   ]
  },
  {
   "cell_type": "code",
   "execution_count": 43,
   "id": "a62d487b",
   "metadata": {},
   "outputs": [
    {
     "name": "stdout",
     "output_type": "stream",
     "text": [
      "Nontrivial nodes progress:2659/2660\n",
      "Total percentage on nontrivial nodes: 0.1878213169999754\n"
     ]
    },
    {
     "data": {
      "image/png": "[encoded data removed]",
      "text/plain": [
       "<Figure size 432x288 with 1 Axes>"
      ]
     },
     "metadata": {
      "needs_background": "light"
     },
     "output_type": "display_data"
    }
   ],
   "source": [
    "nontrivEp_dict,nontrivLep_list,hist_list,perc = graphs.NontrivialityData(twitterNet,ep_dict,lep_list)"
   ]
  },
  {
   "cell_type": "code",
   "execution_count": 44,
   "id": "9369f11c",
   "metadata": {},
   "outputs": [
    {
     "data": {
      "text/plain": [
       "2790"
      ]
     },
     "execution_count": 44,
     "metadata": {},
     "output_type": "execute_result"
    }
   ],
   "source": [
    "len(list(nontrivEp_dict.keys()))"
   ]
  },
  {
   "cell_type": "code",
   "execution_count": 45,
   "id": "7118c26f",
   "metadata": {},
   "outputs": [
    {
     "data": {
      "text/plain": [
       "0.22779229261920314"
      ]
     },
     "execution_count": 45,
     "metadata": {},
     "output_type": "execute_result"
    }
   ],
   "source": [
    "2790/12248"
   ]
  },
  {
   "cell_type": "code",
   "execution_count": null,
   "id": "855cca08",
   "metadata": {},
   "outputs": [],
   "source": []
  },
  {
   "cell_type": "code",
   "execution_count": 33,
   "id": "ece59540",
   "metadata": {},
   "outputs": [
    {
     "data": {
      "text/plain": [
       "0.1878213169999754"
      ]
     },
     "execution_count": 33,
     "metadata": {},
     "output_type": "execute_result"
    }
   ],
   "source": [
    "perc"
   ]
  },
  {
   "cell_type": "markdown",
   "id": "816358ee",
   "metadata": {},
   "source": [
    "# Wiki vote Network Analysis:"
   ]
  },
  {
   "cell_type": "code",
   "execution_count": 16,
   "id": "877cc2eb",
   "metadata": {},
   "outputs": [],
   "source": [
    "os.getcwd()\n",
    "#os.chdir('./Data/Social_Networks')\n",
    "os.chdir('Social_Networks')"
   ]
  },
  {
   "cell_type": "code",
   "execution_count": 29,
   "id": "c0641d13",
   "metadata": {},
   "outputs": [],
   "source": [
    "wiki_vote_net = nx.read_edgelist(\"wiki-Vote.txt.gz\",create_using=nx.DiGraph) # changed it to undirected"
   ]
  },
  {
   "cell_type": "code",
   "execution_count": 34,
   "id": "577bb5ce",
   "metadata": {},
   "outputs": [
    {
     "name": "stdout",
     "output_type": "stream",
     "text": [
      "5816\n"
     ]
    }
   ],
   "source": [
    "total=0\n",
    "for part in nx.strongly_connected_components(wiki_vote_net):\n",
    "    total+=1\n",
    "print(total)"
   ]
  },
  {
   "cell_type": "code",
   "execution_count": 18,
   "id": "4ce336f2",
   "metadata": {},
   "outputs": [],
   "source": [
    "relabeledGraph = graphs.relabel(wiki_vote_net)"
   ]
  },
  {
   "cell_type": "code",
   "execution_count": 19,
   "id": "0af9fdde",
   "metadata": {},
   "outputs": [
    {
     "name": "stdout",
     "output_type": "stream",
     "text": [
      "Finding Coarsest EP...\n",
      " [####################################################################################################] 100%\n",
      "FINDING LEPS...\n",
      " [####################################################################################################] 100%\n"
     ]
    }
   ],
   "source": [
    "ep_dict_wiki, lep_list_wiki, coarsestAndLocal = lep_finder.getEquitablePartitions(relabeledGraph, progress_bars=True)"
   ]
  },
  {
   "cell_type": "code",
   "execution_count": 20,
   "id": "25136753",
   "metadata": {},
   "outputs": [
    {
     "data": {
      "text/plain": [
       "7115"
      ]
     },
     "execution_count": 20,
     "metadata": {},
     "output_type": "execute_result"
    }
   ],
   "source": [
    "len(wiki_vote_net)"
   ]
  },
  {
   "cell_type": "code",
   "execution_count": 21,
   "id": "ede868d8",
   "metadata": {},
   "outputs": [
    {
     "name": "stdout",
     "output_type": "stream",
     "text": [
      "Nontrivial nodes progress:1/2\n",
      "Total percentage on nontrivial nodes: 0.6751932536893887\n"
     ]
    },
    {
     "data": {
      "image/png": "[encoded data removed]",
      "text/plain": [
       "<Figure size 432x288 with 1 Axes>"
      ]
     },
     "metadata": {
      "needs_background": "light"
     },
     "output_type": "display_data"
    },
    {
     "ename": "ValueError",
     "evalue": "not enough values to unpack (expected 4, got 3)",
     "output_type": "error",
     "traceback": [
      "\u001b[1;31m---------------------------------------------------------------------------\u001b[0m",
      "\u001b[1;31mValueError\u001b[0m                                Traceback (most recent call last)",
      "\u001b[1;32m<ipython-input-21-8970b4cb2e86>\u001b[0m in \u001b[0;36m<module>\u001b[1;34m\u001b[0m\n\u001b[1;32m----> 1\u001b[1;33m \u001b[0mnontrivEp_dict_wiki\u001b[0m\u001b[1;33m,\u001b[0m\u001b[0mnontrivLep_list_wiki\u001b[0m\u001b[1;33m,\u001b[0m \u001b[0mhist_list\u001b[0m\u001b[1;33m,\u001b[0m\u001b[0mperc\u001b[0m \u001b[1;33m=\u001b[0m \u001b[0mgraphs\u001b[0m\u001b[1;33m.\u001b[0m\u001b[0mNontrivialityData\u001b[0m\u001b[1;33m(\u001b[0m\u001b[0mwiki_vote_net\u001b[0m\u001b[1;33m,\u001b[0m\u001b[0mep_dict_wiki\u001b[0m\u001b[1;33m,\u001b[0m\u001b[0mlep_list_wiki\u001b[0m\u001b[1;33m)\u001b[0m\u001b[1;33m\u001b[0m\u001b[1;33m\u001b[0m\u001b[0m\n\u001b[0m",
      "\u001b[1;31mValueError\u001b[0m: not enough values to unpack (expected 4, got 3)"
     ]
    }
   ],
   "source": [
    "nontrivEp_dict_wiki,nontrivLep_list_wiki, hist_list,perc = graphs.NontrivialityData(wiki_vote_net,ep_dict_wiki,lep_list_wiki)"
   ]
  },
  {
   "cell_type": "code",
   "execution_count": 22,
   "id": "8be2f085",
   "metadata": {},
   "outputs": [
    {
     "ename": "NetworkXNotImplemented",
     "evalue": "not implemented for directed type",
     "output_type": "error",
     "traceback": [
      "\u001b[1;31m---------------------------------------------------------------------------\u001b[0m",
      "\u001b[1;31mNetworkXNotImplemented\u001b[0m                    Traceback (most recent call last)",
      "\u001b[1;32m<ipython-input-22-fda0410cb5fb>\u001b[0m in \u001b[0;36m<module>\u001b[1;34m\u001b[0m\n\u001b[1;32m----> 1\u001b[1;33m \u001b[0mnx\u001b[0m\u001b[1;33m.\u001b[0m\u001b[0mnumber_connected_components\u001b[0m\u001b[1;33m(\u001b[0m\u001b[0mrelabeledGraph\u001b[0m\u001b[1;33m)\u001b[0m\u001b[1;33m\u001b[0m\u001b[1;33m\u001b[0m\u001b[0m\n\u001b[0m",
      "\u001b[1;32mc:\\users\\josep\\appdata\\local\\programs\\python\\python39\\lib\\site-packages\\networkx\\algorithms\\components\\connected.py\u001b[0m in \u001b[0;36mnumber_connected_components\u001b[1;34m(G)\u001b[0m\n\u001b[0;32m     91\u001b[0m \u001b[1;33m\u001b[0m\u001b[0m\n\u001b[0;32m     92\u001b[0m     \"\"\"\n\u001b[1;32m---> 93\u001b[1;33m     \u001b[1;32mreturn\u001b[0m \u001b[0msum\u001b[0m\u001b[1;33m(\u001b[0m\u001b[1;36m1\u001b[0m \u001b[1;32mfor\u001b[0m \u001b[0mcc\u001b[0m \u001b[1;32min\u001b[0m \u001b[0mconnected_components\u001b[0m\u001b[1;33m(\u001b[0m\u001b[0mG\u001b[0m\u001b[1;33m)\u001b[0m\u001b[1;33m)\u001b[0m\u001b[1;33m\u001b[0m\u001b[1;33m\u001b[0m\u001b[0m\n\u001b[0m\u001b[0;32m     94\u001b[0m \u001b[1;33m\u001b[0m\u001b[0m\n\u001b[0;32m     95\u001b[0m \u001b[1;33m\u001b[0m\u001b[0m\n",
      "\u001b[1;32m<decorator-gen-295>\u001b[0m in \u001b[0;36mconnected_components\u001b[1;34m(G)\u001b[0m\n",
      "\u001b[1;32mc:\\users\\josep\\appdata\\local\\programs\\python\\python39\\lib\\site-packages\\networkx\\utils\\decorators.py\u001b[0m in \u001b[0;36m_not_implemented_for\u001b[1;34m(not_implement_for_func, *args, **kwargs)\u001b[0m\n\u001b[0;32m     74\u001b[0m         \u001b[1;32mif\u001b[0m \u001b[0mmatch\u001b[0m\u001b[1;33m:\u001b[0m\u001b[1;33m\u001b[0m\u001b[1;33m\u001b[0m\u001b[0m\n\u001b[0;32m     75\u001b[0m             \u001b[0mmsg\u001b[0m \u001b[1;33m=\u001b[0m \u001b[1;34mf\"not implemented for {' '.join(graph_types)} type\"\u001b[0m\u001b[1;33m\u001b[0m\u001b[1;33m\u001b[0m\u001b[0m\n\u001b[1;32m---> 76\u001b[1;33m             \u001b[1;32mraise\u001b[0m \u001b[0mnx\u001b[0m\u001b[1;33m.\u001b[0m\u001b[0mNetworkXNotImplemented\u001b[0m\u001b[1;33m(\u001b[0m\u001b[0mmsg\u001b[0m\u001b[1;33m)\u001b[0m\u001b[1;33m\u001b[0m\u001b[1;33m\u001b[0m\u001b[0m\n\u001b[0m\u001b[0;32m     77\u001b[0m         \u001b[1;32melse\u001b[0m\u001b[1;33m:\u001b[0m\u001b[1;33m\u001b[0m\u001b[1;33m\u001b[0m\u001b[0m\n\u001b[0;32m     78\u001b[0m             \u001b[1;32mreturn\u001b[0m \u001b[0mnot_implement_for_func\u001b[0m\u001b[1;33m(\u001b[0m\u001b[1;33m*\u001b[0m\u001b[0margs\u001b[0m\u001b[1;33m,\u001b[0m \u001b[1;33m**\u001b[0m\u001b[0mkwargs\u001b[0m\u001b[1;33m)\u001b[0m\u001b[1;33m\u001b[0m\u001b[1;33m\u001b[0m\u001b[0m\n",
      "\u001b[1;31mNetworkXNotImplemented\u001b[0m: not implemented for directed type"
     ]
    }
   ],
   "source": [
    "nx.number_connected_components(relabeledGraph)"
   ]
  },
  {
   "cell_type": "code",
   "execution_count": 42,
   "id": "5f83721d",
   "metadata": {},
   "outputs": [
    {
     "data": {
      "text/plain": [
       "0.6751932536893887"
      ]
     },
     "execution_count": 42,
     "metadata": {},
     "output_type": "execute_result"
    }
   ],
   "source": [
    "perc"
   ]
  },
  {
   "cell_type": "code",
   "execution_count": 40,
   "id": "4e81159c",
   "metadata": {},
   "outputs": [
    {
     "data": {
      "text/plain": [
       "dict_keys([0, 1, 2, 3, 1886, 2305, 2306])"
      ]
     },
     "execution_count": 40,
     "metadata": {},
     "output_type": "execute_result"
    }
   ],
   "source": [
    "nontrivEp_dict_wiki.keys()"
   ]
  },
  {
   "cell_type": "code",
   "execution_count": 41,
   "id": "59f70998",
   "metadata": {},
   "outputs": [
    {
     "data": {
      "text/plain": [
       "[{0, 1, 2, 3, 2305, 2306}, {1886}]"
      ]
     },
     "execution_count": 41,
     "metadata": {},
     "output_type": "execute_result"
    }
   ],
   "source": [
    "# interesting, only 2 leps\n",
    "nontrivLep_list_wiki"
   ]
  },
  {
   "cell_type": "code",
   "execution_count": 82,
   "id": "f44c34b7",
   "metadata": {},
   "outputs": [
    {
     "name": "stdout",
     "output_type": "stream",
     "text": [
      "4734\n",
      "47\n",
      "12\n",
      "5\n",
      "2\n",
      "2\n"
     ]
    }
   ],
   "source": [
    "# size doesn't seem to be the correlation in the first lep.\n",
    "for partEl in nontrivLep_list_wiki[0]:\n",
    "    print(len(nontrivEp_dict_wiki[partEl]))"
   ]
  },
  {
   "cell_type": "markdown",
   "id": "b3c9e36b",
   "metadata": {},
   "source": [
    "# Deezer Network Analysis"
   ]
  },
  {
   "cell_type": "code",
   "execution_count": 44,
   "id": "c3d4632c",
   "metadata": {},
   "outputs": [],
   "source": [
    "#os.chdir('deezer_europe/deezer_europe')"
   ]
  },
  {
   "cell_type": "code",
   "execution_count": 52,
   "id": "5d4ba85d",
   "metadata": {},
   "outputs": [],
   "source": [
    "deez_nx = nx.read_edgelist(\"deezer_europe_edges.csv\",delimiter=',',comments='node_1')"
   ]
  },
  {
   "cell_type": "code",
   "execution_count": 54,
   "id": "7cdae300",
   "metadata": {},
   "outputs": [
    {
     "data": {
      "text/plain": [
       "28281"
      ]
     },
     "execution_count": 54,
     "metadata": {},
     "output_type": "execute_result"
    }
   ],
   "source": [
    "len(deez_nx)  # checking to make sure graph was read in correctly"
   ]
  },
  {
   "cell_type": "code",
   "execution_count": 55,
   "id": "f32eb930",
   "metadata": {},
   "outputs": [
    {
     "name": "stdout",
     "output_type": "stream",
     "text": [
      "Finding Coarsest EP...\n",
      " [####################################################################################################] 100%\n",
      "FINDING LEPS...\n",
      " [####################################################################################################] 100%\n"
     ]
    }
   ],
   "source": [
    "relabeledGraph = graphs.relabel(deez_nx)\n",
    "ep_dict_deez,lep_list_deez,_ = lep_finder.getEquitablePartitions(relabeledGraph,progress_bars=True)"
   ]
  },
  {
   "cell_type": "code",
   "execution_count": 56,
   "id": "cdbb9e78",
   "metadata": {},
   "outputs": [
    {
     "name": "stdout",
     "output_type": "stream",
     "text": [
      "Nontrivial nodes progress:897/1287\n"
     ]
    }
   ],
   "source": [
    "nontEP_dict_deez, nontLep_list_deez, perc = graphs.NontrivialityData(relabeledGraph,ep_dict_deez,lep_list_deez)"
   ]
  },
  {
   "cell_type": "code",
   "execution_count": 57,
   "id": "51557566",
   "metadata": {},
   "outputs": [
    {
     "data": {
      "text/plain": [
       "0.16134507266362574"
      ]
     },
     "execution_count": 57,
     "metadata": {},
     "output_type": "execute_result"
    }
   ],
   "source": [
    "perc"
   ]
  },
  {
   "cell_type": "markdown",
   "id": "5553aa12",
   "metadata": {},
   "source": [
    "# Epinions Trust Network Analysis:"
   ]
  },
  {
   "cell_type": "code",
   "execution_count": 63,
   "id": "be60ac96",
   "metadata": {},
   "outputs": [],
   "source": [
    "#os.chdir('EquitablePartitions/Data')"
   ]
  },
  {
   "cell_type": "code",
   "execution_count": 64,
   "id": "bb93df0f",
   "metadata": {},
   "outputs": [
    {
     "data": {
      "text/plain": [
       "'C:\\\\Users\\\\josep\\\\OneDrive\\\\Documents\\\\Para la Escuela\\\\Research\\\\Network Theory\\\\EquitablePartitions\\\\Data'"
      ]
     },
     "execution_count": 64,
     "metadata": {},
     "output_type": "execute_result"
    }
   ],
   "source": [
    "os.getcwd()"
   ]
  },
  {
   "cell_type": "code",
   "execution_count": 65,
   "id": "465f07a4",
   "metadata": {},
   "outputs": [],
   "source": [
    "Eph_nx = nx.read_edgelist(\"soc-Epinions1.txt.gz\")"
   ]
  },
  {
   "cell_type": "code",
   "execution_count": 66,
   "id": "4770f3c1",
   "metadata": {},
   "outputs": [
    {
     "name": "stdout",
     "output_type": "stream",
     "text": [
      "Finding Coarsest EP...\n",
      " [####################################################################################################] 100%\n",
      "FINDING LEPS...\n",
      " [####################################################################################################] 100%\n"
     ]
    }
   ],
   "source": [
    "relabeledGraph = graphs.relabel(Eph_nx)\n",
    "ep_dict_eph, lep_list_eph,_ = lep_finder.getEquitablePartitions(relabeledGraph)"
   ]
  },
  {
   "cell_type": "code",
   "execution_count": 67,
   "id": "5e40274c",
   "metadata": {},
   "outputs": [
    {
     "name": "stdout",
     "output_type": "stream",
     "text": [
      "Nontrivial nodes progress:7018/7291\n"
     ]
    }
   ],
   "source": [
    "nontEp_dict_eph,nontLep_list_eph, perc = graphs.NontrivialityData(relabeledGraph,ep_dict_eph,lep_list_eph)"
   ]
  },
  {
   "cell_type": "code",
   "execution_count": 68,
   "id": "f82aec98",
   "metadata": {},
   "outputs": [
    {
     "data": {
      "text/plain": [
       "0.3996757996283557"
      ]
     },
     "execution_count": 68,
     "metadata": {},
     "output_type": "execute_result"
    }
   ],
   "source": [
    "perc"
   ]
  }
 ],
 "metadata": {
  "kernelspec": {
   "display_name": "Python 3",
   "language": "python",
   "name": "python3"
  },
  "language_info": {
   "codemirror_mode": {
    "name": "ipython",
    "version": 3
   },
   "file_extension": ".py",
   "mimetype": "text/x-python",
   "name": "python",
   "nbconvert_exporter": "python",
   "pygments_lexer": "ipython3",
   "version": "3.9.5"
  }
 },
 "nbformat": 4,
 "nbformat_minor": 5
}
