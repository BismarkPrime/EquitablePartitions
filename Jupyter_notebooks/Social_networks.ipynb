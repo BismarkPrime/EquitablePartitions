{
 "cells": [
  {
   "cell_type": "code",
   "execution_count": 1,
   "id": "a98a2249",
   "metadata": {},
   "outputs": [],
   "source": [
    "import os"
   ]
  },
  {
   "cell_type": "code",
   "execution_count": 2,
   "id": "2a950140",
   "metadata": {},
   "outputs": [
    {
     "data": {
      "text/plain": [
       "'/Users/josephhenderson/Desktop/Research/EquitablePartitions/Jupyter_notebooks'"
      ]
     },
     "execution_count": 2,
     "metadata": {},
     "output_type": "execute_result"
    }
   ],
   "source": [
    "os.getcwd()"
   ]
  },
  {
   "cell_type": "code",
   "execution_count": 3,
   "id": "7a386918",
   "metadata": {},
   "outputs": [
    {
     "data": {
      "text/plain": [
       "['git_hub_social_LEP_inv.ipynb',\n",
       " 'Social_networks.ipynb',\n",
       " 'geometric_leps.pdf',\n",
       " 'Directed_Cases.ipynb',\n",
       " '.ipynb_checkpoints',\n",
       " 'Erdos_reyni_graph_tests.ipynb',\n",
       " 'Directed_investigation.ipynb',\n",
       " 'QR_checks.ipynb',\n",
       " 'Road_Networks.ipynb',\n",
       " 'Random_Geo_graph_check.ipynb']"
      ]
     },
     "execution_count": 3,
     "metadata": {},
     "output_type": "execute_result"
    }
   ],
   "source": [
    "os.listdir()"
   ]
  },
  {
   "cell_type": "code",
   "execution_count": 4,
   "id": "0ed8ea75",
   "metadata": {},
   "outputs": [],
   "source": [
    "import os,sys\n",
    "os.chdir('../Data/git_web_ml')\n",
    "#os.getcwd()"
   ]
  },
  {
   "cell_type": "code",
   "execution_count": 5,
   "id": "ae0998cb",
   "metadata": {},
   "outputs": [],
   "source": [
    "import pandas as pd\n",
    "import networkx as nx\n",
    "from importlib import reload\n",
    "import inspect\n",
    "import csv\n",
    "import sys\n",
    "#os.listdir()"
   ]
  },
  {
   "cell_type": "code",
   "execution_count": 6,
   "id": "9e2069bf",
   "metadata": {},
   "outputs": [
    {
     "ename": "NameError",
     "evalue": "name 'lep_finder' is not defined",
     "output_type": "error",
     "traceback": [
      "\u001b[0;31m---------------------------------------------------------------------------\u001b[0m",
      "\u001b[0;31mNameError\u001b[0m                                 Traceback (most recent call last)",
      "Cell \u001b[0;32mIn [6], line 3\u001b[0m\n\u001b[1;32m      1\u001b[0m \u001b[38;5;66;03m#reloading cell\u001b[39;00m\n\u001b[1;32m      2\u001b[0m \u001b[38;5;66;03m#reload(graphs)\u001b[39;00m\n\u001b[0;32m----> 3\u001b[0m reload(\u001b[43mlep_finder\u001b[49m)\n",
      "\u001b[0;31mNameError\u001b[0m: name 'lep_finder' is not defined"
     ]
    }
   ],
   "source": [
    "#reloading cell\n",
    "#reload(graphs)\n",
    "reload(lep_finder)\n",
    "#delete if necessary\n",
    "#del sys.modules['graphs']"
   ]
  },
  {
   "cell_type": "code",
   "execution_count": null,
   "id": "901afec4",
   "metadata": {},
   "outputs": [],
   "source": [
    "# use this to get the function list of a module\n",
    "from inspect import getmembers, isfunction\n",
    "#function_list = getmembers(sys.modules['networkx'],isfunction)"
   ]
  },
  {
   "cell_type": "markdown",
   "id": "d3d11667",
   "metadata": {},
   "source": [
    "# Git Hub Social Network"
   ]
  },
  {
   "cell_type": "code",
   "execution_count": 7,
   "id": "8a768e3f",
   "metadata": {},
   "outputs": [],
   "source": [
    "git_df = pd.read_csv('musae_git_edges.csv')"
   ]
  },
  {
   "cell_type": "code",
   "execution_count": 8,
   "id": "b1bd3842",
   "metadata": {},
   "outputs": [],
   "source": [
    "git_nx = nx.read_edgelist('musae_git_edges.csv',delimiter=',',comments='id_1')"
   ]
  },
  {
   "cell_type": "code",
   "execution_count": 9,
   "id": "27cef855",
   "metadata": {},
   "outputs": [],
   "source": [
    "os.chdir('../..')"
   ]
  },
  {
   "cell_type": "code",
   "execution_count": 10,
   "id": "c8d4fbbe",
   "metadata": {},
   "outputs": [],
   "source": [
    "import numpy as np\n",
    "import os, sys\n",
    "from importlib import reload\n",
    "from matplotlib import pyplot as plt\n",
    "from tqdm import tqdm\n",
    "import networkx as nx\n",
    "import ep_finder, lep_finder, graphs, ep_utils"
   ]
  },
  {
   "cell_type": "code",
   "execution_count": 11,
   "id": "c56fa25e",
   "metadata": {},
   "outputs": [
    {
     "name": "stdout",
     "output_type": "stream",
     "text": [
      "Finding Coarsest EP...\n",
      " [####################################################################################################] 100%\n",
      "COMPUTING LEPS\t |████████████████████████████████████████| 106123/106123 [100%] in 0.4s (258728.76/s) \n"
     ]
    }
   ],
   "source": [
    "relabeledGraph = graphs.relabel(git_nx)\n",
    "ep_dict, lep_list, coarsestAndLocal = ep_utils.getEquitablePartitions(relabeledGraph,progress_bars=True)"
   ]
  },
  {
   "cell_type": "code",
   "execution_count": 12,
   "id": "f43d52a2",
   "metadata": {},
   "outputs": [
    {
     "data": {
      "text/plain": [
       "37700"
      ]
     },
     "execution_count": 12,
     "metadata": {},
     "output_type": "execute_result"
    }
   ],
   "source": [
    "# total number of nodes in network\n",
    "len(git_nx)"
   ]
  },
  {
   "cell_type": "code",
   "execution_count": 13,
   "id": "325e4fb5",
   "metadata": {},
   "outputs": [
    {
     "name": "stdout",
     "output_type": "stream",
     "text": [
      "Nontrivial nodes progress:680/681\n",
      "Total percentage on nontrivial nodes: 0.08002652519893899\n",
      "Total pairs in partition elements: 439\n",
      "Percentage of nontrivial nodes in pairs: 0.29101756711965526\n"
     ]
    },
    {
     "data": {
      "image/png": "[encoded data removed]",
      "text/plain": [
       "<Figure size 640x480 with 2 Axes>"
      ]
     },
     "metadata": {},
     "output_type": "display_data"
    }
   ],
   "source": [
    "nontrivEp_dict_git,nontrivLep_list_git,hist_list, perc = graphs.NontrivialityData(git_nx,ep_dict,lep_list,return_vals=True)"
   ]
  },
  {
   "cell_type": "code",
   "execution_count": null,
   "id": "c44f0246",
   "metadata": {},
   "outputs": [],
   "source": [
    "#nontrivLep_list_git"
   ]
  },
  {
   "cell_type": "markdown",
   "id": "dfe9fa7a",
   "metadata": {},
   "source": [
    "# Local Decomposition of Dolores:"
   ]
  },
  {
   "cell_type": "code",
   "execution_count": 15,
   "id": "c1ab873d",
   "metadata": {},
   "outputs": [],
   "source": [
    "Dolores = graphs.getDolores()\n",
    "relabeledDol = graphs.relabel(Dolores)\n",
    "ep_dict, lep_list, coasestAndLocal = ep_utils.getEquitablePartitions(relabeledDol,progress_bars=False)"
   ]
  },
  {
   "cell_type": "code",
   "execution_count": 16,
   "id": "4ae80b95",
   "metadata": {},
   "outputs": [
    {
     "name": "stdout",
     "output_type": "stream",
     "text": [
      "Local spectrum decomposition: \n",
      "\n",
      "({'Original Graph Divisor': array([-3.465+0.j, -2.575+0.j,  3.695+0.j,  2.715+0.j,  1.793+0.j,\n",
      "       -0.897+0.j,  0.519+0.j,  0.214+0.j]),\n",
      "  '{0, 3}': array([-1.861+0.j, -1.303+0.j, -0.254+0.j,  2.303+0.j,  2.115+0.j,\n",
      "       -1.   +0.j,  1.   +0.j, -1.   +0.j]),\n",
      "  '{0, 3} Divisor': array([ 2.303+0.j, -1.303+0.j]),\n",
      "  '{1, 4}': array([-2.   +0.j, -1.414+0.j,  0.   +0.j,  2.   +0.j,  1.414+0.j,\n",
      "       -1.414+0.j,  1.414+0.j,  0.   +0.j]),\n",
      "  '{1, 4} Divisor': array([ 2.+0.j, -2.+0.j]),\n",
      "  '{2, 6}': array([ 2.+0.j,  1.+0.j, -2.+0.j, -1.+0.j,  1.+0.j, -1.+0.j]),\n",
      "  '{2, 6} Divisor': array([-1.+0.j,  2.+0.j]),\n",
      "  '{5}': array([0.+0.j]),\n",
      "  '{5} Divisor': array([0.+0.j]),\n",
      "  '{7}': array([0.+0.j]),\n",
      "  '{7} Divisor': array([0.+0.j])},\n",
      " array([ 3.695+0.j, -3.465+0.j,  2.715+0.j, -2.575+0.j,  2.115+0.j,\n",
      "        1.793+0.j, -1.861+0.j, -0.254+0.j,  0.214+0.j,  0.519+0.j,\n",
      "       -0.897+0.j, -2.   +0.j, -0.   +0.j, -1.414+0.j, -1.414-0.j,\n",
      "        1.414+0.j,  1.414+0.j, -0.   +0.j, -1.   +0.j, -1.   +0.j,\n",
      "       -1.   +0.j,  1.   +0.j,  1.   +0.j,  1.   +0.j]))\n",
      "\n",
      "\n",
      "full spectrum: \n",
      "\n",
      "[(3.695+0j),\n",
      " (-3.465+0j),\n",
      " (2.715+0j),\n",
      " (-2.575+0j),\n",
      " (2.115+0j),\n",
      " (1.793+0j),\n",
      " (-1.861+0j),\n",
      " (-0.254+0j),\n",
      " (0.214+0j),\n",
      " (0.519+0j),\n",
      " (-0.897+0j),\n",
      " (-2+0j),\n",
      " (-0+0j),\n",
      " (-1.414+0j),\n",
      " (-1.414-0j),\n",
      " (1.414+0j),\n",
      " (1.414+0j),\n",
      " (-0+0j),\n",
      " (-1+0j),\n",
      " (-1+0j),\n",
      " (-1+0j),\n",
      " (1+0j),\n",
      " (1+0j),\n",
      " (1+0j)]\n"
     ]
    },
    {
     "name": "stderr",
     "output_type": "stream",
     "text": [
      "/usr/local/lib/python3.10/site-packages/networkx/linalg/spectrum.py:110: FutureWarning: adjacency_matrix will return a scipy.sparse array instead of a matrix in Networkx 3.0.\n",
      "  return sp.linalg.eigvals(nx.adjacency_matrix(G, weight=weight).todense())\n"
     ]
    }
   ],
   "source": [
    "import pprint\n",
    "fullSpec = np.round(nx.adjacency_spectrum(relabeledDol),3)\n",
    "dolDivSpec = np.round(nx.adjacency_spectrum(graphs.genDivGraph(relabeledDol,ep_dict),3))\n",
    "\n",
    "localSpec = graphs.GetLocalSpec(relabeledDol,ep_dict,lep_list)\n",
    "againGDiv = graphs.genDivGraph(relabeledDol,ep_dict)\n",
    "\n",
    "pretty = pprint.PrettyPrinter(width=30)\n",
    "print(\"Local spectrum decomposition: \\n\")\n",
    "pretty.pprint(localSpec)\n",
    "print('\\n')\n",
    "print(\"full spectrum: \\n\")\n",
    "pretty.pprint(list(fullSpec))"
   ]
  },
  {
   "cell_type": "markdown",
   "id": "9c615a53",
   "metadata": {},
   "source": [
    "| Total Graph Spectrum | LEP1 {0,3} | LEP2 {1,4} | LEP3 {2,6} | LEP4 {5} | LEP {7} |\n",
    "| -------------------- | ---------- | ---------- | ---------- | -------- | ------- |\n",
    "|          1           | ---------- | ---------- | ---------- | -------- | ------- |\n",
    "|          1           | ---------- | ---------- | ---------- | -------- | ------- |\n",
    "|          1           | ---------- | ---------- | ---------- | -------- | ------- |\n",
    "|         -1           | ---------- | ---------- | ---------- | -------- | ------- |\n",
    "|         -1           | ---------- | ---------- | ---------- | -------- | ------- |\n",
    "|         -1           | ---------- | ---------- | ---------- | -------- | ------- |\n",
    "| -------------------- | ---------- | ---------- | ---------- | -------- | ------- |\n",
    "| -------------------- | ---------- | ---------- | ---------- | -------- | ------- |\n",
    "| -------------------- | ---------- | ---------- | ---------- | -------- | ------- |\n",
    "| -------------------- | ---------- | ---------- | ---------- | -------- | ------- |\n",
    "| -------------------- | ---------- | ---------- | ---------- | -------- | ------- |\n",
    "| -------------------- | ---------- | ---------- | ---------- | -------- | ------- |\n",
    "| -------------------- | ---------- | ---------- | ---------- | -------- | ------- |\n",
    "| -------------------- | ---------- | ---------- | ---------- | -------- | ------- |\n",
    "| -------------------- | ---------- | ---------- | ---------- | -------- | ------- |\n",
    "| -------------------- | ---------- | ---------- | ---------- | -------- | ------- |\n",
    "| -------------------- | ---------- | ---------- | ---------- | -------- | ------- |\n",
    "| -------------------- | ---------- | ---------- | ---------- | -------- | ------- |\n",
    "| -------------------- | ---------- | ---------- | ---------- | -------- | ------- |\n",
    "| -------------------- | ---------- | ---------- | ---------- | -------- | ------- |\n",
    "| -------------------- | ---------- | ---------- | ---------- | -------- | ------- |\n",
    "| -------------------- | ---------- | ---------- | ---------- | -------- | ------- |\n",
    "| -------------------- | ---------- | ---------- | ---------- | -------- | ------- |\n",
    "| -------------------- | ---------- | ---------- | ---------- | -------- | ------- |\n",
    "\n",
    "\n"
   ]
  },
  {
   "cell_type": "code",
   "execution_count": 18,
   "id": "5f0c90f3",
   "metadata": {},
   "outputs": [
    {
     "name": "stdout",
     "output_type": "stream",
     "text": [
      "Finding Coarsest EP...\n",
      " [####################################################################################################] 100%\n",
      "COMPUTING LEPS\t |████████████████████████████████████████| 25/25 [100%] in 0.0s (54905.84/s) \n"
     ]
    }
   ],
   "source": [
    "ep_dict, lep_list, coarsestAndLocal = ep_utils.getEquitablePartitions(relabeledDol,progress_bars=True)"
   ]
  },
  {
   "cell_type": "code",
   "execution_count": 21,
   "id": "fe2b4b07",
   "metadata": {},
   "outputs": [
    {
     "name": "stdout",
     "output_type": "stream",
     "text": [
      "Nontrivial nodes progress:2/3\n",
      "Total percentage on nontrivial nodes: 0.9166666666666666\n",
      "Total pairs in partition elements: 2\n",
      "Percentage of nontrivial nodes in pairs: 0.18181818181818182\n"
     ]
    },
    {
     "data": {
      "image/png": "[encoded data removed]",
      "text/plain": [
       "<Figure size 640x480 with 2 Axes>"
      ]
     },
     "metadata": {},
     "output_type": "display_data"
    }
   ],
   "source": [
    "nontEP_dict_dol,nontLEP_list_dol,hist_list,perc_dol = graphs.NontrivialityData(relabeledDol,ep_dict,lep_list,return_vals=True)"
   ]
  },
  {
   "cell_type": "markdown",
   "id": "94547bc0",
   "metadata": {},
   "source": [
    "# Facebook Graph Analysis:"
   ]
  },
  {
   "cell_type": "code",
   "execution_count": 22,
   "id": "542a3e39",
   "metadata": {},
   "outputs": [],
   "source": [
    "#os.chdir('Data')\n",
    "facebookG = graphs.getFacebookGraph()"
   ]
  },
  {
   "cell_type": "code",
   "execution_count": 24,
   "id": "4b5ef35b",
   "metadata": {},
   "outputs": [
    {
     "name": "stdout",
     "output_type": "stream",
     "text": [
      "Finding Coarsest EP...\n",
      " [####################################################################################################] 100%\n",
      "COMPUTING LEPS\t |████████████████████████████████████████| 11596/11596 [100%] in 0.1s (162231.57/s) \n"
     ]
    }
   ],
   "source": [
    "relabeledGraph = graphs.relabel(facebookG)\n",
    "ep_dict, lep_list, coarsestAndLocal = ep_utils.getEquitablePartitions(relabeledGraph,progress_bars=True)"
   ]
  },
  {
   "cell_type": "code",
   "execution_count": 26,
   "id": "7fdd3248",
   "metadata": {},
   "outputs": [
    {
     "name": "stdout",
     "output_type": "stream",
     "text": [
      "Filtering leps progress: 3836/3865\n"
     ]
    },
    {
     "data": {
      "image/png": "[encoded data removed]",
      "text/plain": [
       "<Figure size 640x480 with 2 Axes>"
      ]
     },
     "metadata": {},
     "output_type": "display_data"
    }
   ],
   "source": [
    "nontrivEp_dict,nontrivLep_list,hist_list_face, perc = graphs.NontrivialityData(relabeledGraph,ep_dict,lep_list,return_vals=True)"
   ]
  },
  {
   "cell_type": "markdown",
   "id": "f2fdad72",
   "metadata": {},
   "source": [
    "# Google Plus Network Analysis"
   ]
  },
  {
   "cell_type": "markdown",
   "id": "d900463b",
   "metadata": {},
   "source": [
    "## Note: this one is huge and takes jupyter a long time to do anything with start when have more time."
   ]
  },
  {
   "cell_type": "code",
   "execution_count": 27,
   "id": "1e7071b9",
   "metadata": {},
   "outputs": [
    {
     "data": {
      "text/plain": [
       "'/Users/josephhenderson/Desktop/Research/EquitablePartitions'"
      ]
     },
     "execution_count": 27,
     "metadata": {},
     "output_type": "execute_result"
    }
   ],
   "source": [
    "\n",
    "\n",
    "os.getcwd()"
   ]
  },
  {
   "cell_type": "code",
   "execution_count": null,
   "id": "18dd0d81",
   "metadata": {},
   "outputs": [],
   "source": [
    "# This cell kills computers because of the size of the graph, tenga cuidado\n",
    "#gPlusNet = nx.read_edgelist(\"gplus_combined.txt.gz\",create_using=nx.DiGraph)"
   ]
  },
  {
   "cell_type": "code",
   "execution_count": null,
   "id": "4cb2b88b",
   "metadata": {},
   "outputs": [],
   "source": [
    "relabeledGraph = graphs.relabel(gPlusNet)"
   ]
  },
  {
   "cell_type": "code",
   "execution_count": null,
   "id": "66a31a0e",
   "metadata": {},
   "outputs": [],
   "source": [
    "ep_dict, lep_list, coarsestAndLocal = lep_finder.getEquitablePartitions(relabeledGraph,progress_bars=True)"
   ]
  },
  {
   "cell_type": "markdown",
   "id": "4815607b",
   "metadata": {},
   "source": [
    "# Twitter Network Analysis:"
   ]
  },
  {
   "cell_type": "code",
   "execution_count": 33,
   "id": "2fe8cd39",
   "metadata": {},
   "outputs": [
    {
     "ename": "FileNotFoundError",
     "evalue": "[Errno 2] No such file or directory: 'Data'",
     "output_type": "error",
     "traceback": [
      "\u001b[0;31m---------------------------------------------------------------------------\u001b[0m",
      "\u001b[0;31mFileNotFoundError\u001b[0m                         Traceback (most recent call last)",
      "Cell \u001b[0;32mIn [33], line 1\u001b[0m\n\u001b[0;32m----> 1\u001b[0m \u001b[43mos\u001b[49m\u001b[38;5;241;43m.\u001b[39;49m\u001b[43mchdir\u001b[49m\u001b[43m(\u001b[49m\u001b[38;5;124;43m'\u001b[39;49m\u001b[38;5;124;43mData\u001b[39;49m\u001b[38;5;124;43m'\u001b[39;49m\u001b[43m)\u001b[49m\n",
      "\u001b[0;31mFileNotFoundError\u001b[0m: [Errno 2] No such file or directory: 'Data'"
     ]
    }
   ],
   "source": [
    "os.chdir('Data')"
   ]
  },
  {
   "cell_type": "code",
   "execution_count": 34,
   "id": "19d3a382",
   "metadata": {},
   "outputs": [],
   "source": [
    "twitterNet = nx.read_edgelist(\"twitter_combined.txt.gz\",create_using=nx.DiGraph)"
   ]
  },
  {
   "cell_type": "code",
   "execution_count": 35,
   "id": "92bb9e73",
   "metadata": {},
   "outputs": [
    {
     "name": "stdout",
     "output_type": "stream",
     "text": [
      "12248\n"
     ]
    }
   ],
   "source": [
    "# getting strongly connected components\n",
    "total=0\n",
    "for part in nx.strongly_connected_components(twitterNet):\n",
    "    total+=1\n",
    "print(total)"
   ]
  },
  {
   "cell_type": "code",
   "execution_count": 36,
   "id": "17549d85",
   "metadata": {},
   "outputs": [],
   "source": [
    "relabeledGraph = graphs.relabel(twitterNet)"
   ]
  },
  {
   "cell_type": "code",
   "execution_count": 38,
   "id": "f19afa5b",
   "metadata": {},
   "outputs": [
    {
     "name": "stdout",
     "output_type": "stream",
     "text": [
      "Finding Coarsest EP...\n",
      " [####################################################################################################] 100%\n",
      "COMPUTING LEPS\t |████████████████████████████████████████| 206476/206476 [100%] in 0.9s (235242.13/s) \n"
     ]
    }
   ],
   "source": [
    "ep_dict, lep_list, coarsestAndLocal = ep_utils.getEquitablePartitions(relabeledGraph, progress_bars=True)"
   ]
  },
  {
   "cell_type": "code",
   "execution_count": null,
   "id": "a16c3b1a",
   "metadata": {},
   "outputs": [],
   "source": [
    "# QUESTION: can singletons all be in one lep but all in their own ep partition element?"
   ]
  },
  {
   "cell_type": "code",
   "execution_count": 39,
   "id": "a62d487b",
   "metadata": {},
   "outputs": [
    {
     "name": "stdout",
     "output_type": "stream",
     "text": [
      "Nontrivial nodes progress:2611/2660\n"
     ]
    },
    {
     "data": {
      "image/png": "[encoded data removed]",
      "text/plain": [
       "<Figure size 640x480 with 2 Axes>"
      ]
     },
     "metadata": {},
     "output_type": "display_data"
    },
    {
     "ename": "TypeError",
     "evalue": "cannot unpack non-iterable NoneType object",
     "output_type": "error",
     "traceback": [
      "\u001b[0;31m---------------------------------------------------------------------------\u001b[0m",
      "\u001b[0;31mTypeError\u001b[0m                                 Traceback (most recent call last)",
      "Cell \u001b[0;32mIn [39], line 1\u001b[0m\n\u001b[0;32m----> 1\u001b[0m nontrivEp_dict,nontrivLep_list,hist_list,perc \u001b[38;5;241m=\u001b[39m graphs\u001b[38;5;241m.\u001b[39mNontrivialityData(twitterNet,ep_dict,lep_list)\n",
      "\u001b[0;31mTypeError\u001b[0m: cannot unpack non-iterable NoneType object"
     ]
    }
   ],
   "source": [
    "nontrivEp_dict,nontrivLep_list,hist_list,perc = graphs.NontrivialityData(twitterNet,ep_dict,lep_list)"
   ]
  },
  {
   "cell_type": "code",
   "execution_count": null,
   "id": "9369f11c",
   "metadata": {},
   "outputs": [],
   "source": [
    "len(list(nontrivEp_dict.keys()))"
   ]
  },
  {
   "cell_type": "code",
   "execution_count": null,
   "id": "7118c26f",
   "metadata": {},
   "outputs": [],
   "source": [
    "2790/12248"
   ]
  },
  {
   "cell_type": "code",
   "execution_count": null,
   "id": "855cca08",
   "metadata": {},
   "outputs": [],
   "source": []
  },
  {
   "cell_type": "code",
   "execution_count": null,
   "id": "ece59540",
   "metadata": {},
   "outputs": [],
   "source": [
    "perc"
   ]
  },
  {
   "cell_type": "markdown",
   "id": "816358ee",
   "metadata": {},
   "source": [
    "# Wiki vote Network Analysis:"
   ]
  },
  {
   "cell_type": "code",
   "execution_count": null,
   "id": "877cc2eb",
   "metadata": {},
   "outputs": [],
   "source": [
    "os.getcwd()\n",
    "#os.chdir('./Data/Social_Networks')\n",
    "os.chdir('Social_Networks')"
   ]
  },
  {
   "cell_type": "code",
   "execution_count": null,
   "id": "c0641d13",
   "metadata": {},
   "outputs": [],
   "source": [
    "wiki_vote_net = nx.read_edgelist(\"wiki-Vote.txt.gz\",create_using=nx.DiGraph) # changed it to undirected"
   ]
  },
  {
   "cell_type": "code",
   "execution_count": null,
   "id": "577bb5ce",
   "metadata": {},
   "outputs": [],
   "source": [
    "total=0\n",
    "for part in nx.strongly_connected_components(wiki_vote_net):\n",
    "    total+=1\n",
    "print(total)"
   ]
  },
  {
   "cell_type": "code",
   "execution_count": null,
   "id": "4ce336f2",
   "metadata": {},
   "outputs": [],
   "source": [
    "relabeledGraph = graphs.relabel(wiki_vote_net)"
   ]
  },
  {
   "cell_type": "code",
   "execution_count": null,
   "id": "0af9fdde",
   "metadata": {},
   "outputs": [],
   "source": [
    "ep_dict_wiki, lep_list_wiki, coarsestAndLocal = lep_finder.getEquitablePartitions(relabeledGraph, progress_bars=True)"
   ]
  },
  {
   "cell_type": "code",
   "execution_count": null,
   "id": "25136753",
   "metadata": {},
   "outputs": [],
   "source": [
    "len(wiki_vote_net)"
   ]
  },
  {
   "cell_type": "code",
   "execution_count": null,
   "id": "ede868d8",
   "metadata": {},
   "outputs": [],
   "source": [
    "nontrivEp_dict_wiki,nontrivLep_list_wiki, hist_list,perc = graphs.NontrivialityData(wiki_vote_net,ep_dict_wiki,lep_list_wiki)"
   ]
  },
  {
   "cell_type": "code",
   "execution_count": null,
   "id": "8be2f085",
   "metadata": {},
   "outputs": [],
   "source": [
    "nx.number_connected_components(relabeledGraph)"
   ]
  },
  {
   "cell_type": "code",
   "execution_count": null,
   "id": "5f83721d",
   "metadata": {},
   "outputs": [],
   "source": [
    "perc"
   ]
  },
  {
   "cell_type": "code",
   "execution_count": null,
   "id": "4e81159c",
   "metadata": {},
   "outputs": [],
   "source": [
    "nontrivEp_dict_wiki.keys()"
   ]
  },
  {
   "cell_type": "code",
   "execution_count": null,
   "id": "59f70998",
   "metadata": {},
   "outputs": [],
   "source": [
    "# interesting, only 2 leps\n",
    "nontrivLep_list_wiki"
   ]
  },
  {
   "cell_type": "code",
   "execution_count": null,
   "id": "f44c34b7",
   "metadata": {},
   "outputs": [],
   "source": [
    "# size doesn't seem to be the correlation in the first lep.\n",
    "for partEl in nontrivLep_list_wiki[0]:\n",
    "    print(len(nontrivEp_dict_wiki[partEl]))"
   ]
  },
  {
   "cell_type": "markdown",
   "id": "b3c9e36b",
   "metadata": {},
   "source": [
    "# Deezer Network Analysis"
   ]
  },
  {
   "cell_type": "code",
   "execution_count": null,
   "id": "c3d4632c",
   "metadata": {},
   "outputs": [],
   "source": [
    "#os.chdir('deezer_europe/deezer_europe')"
   ]
  },
  {
   "cell_type": "code",
   "execution_count": null,
   "id": "5d4ba85d",
   "metadata": {},
   "outputs": [],
   "source": [
    "deez_nx = nx.read_edgelist(\"deezer_europe_edges.csv\",delimiter=',',comments='node_1')"
   ]
  },
  {
   "cell_type": "code",
   "execution_count": null,
   "id": "7cdae300",
   "metadata": {},
   "outputs": [],
   "source": [
    "len(deez_nx)  # checking to make sure graph was read in correctly"
   ]
  },
  {
   "cell_type": "code",
   "execution_count": null,
   "id": "f32eb930",
   "metadata": {},
   "outputs": [],
   "source": [
    "relabeledGraph = graphs.relabel(deez_nx)\n",
    "ep_dict_deez,lep_list_deez,_ = lep_finder.getEquitablePartitions(relabeledGraph,progress_bars=True)"
   ]
  },
  {
   "cell_type": "code",
   "execution_count": null,
   "id": "cdbb9e78",
   "metadata": {},
   "outputs": [],
   "source": [
    "nontEP_dict_deez, nontLep_list_deez, perc = graphs.NontrivialityData(relabeledGraph,ep_dict_deez,lep_list_deez)"
   ]
  },
  {
   "cell_type": "code",
   "execution_count": null,
   "id": "51557566",
   "metadata": {},
   "outputs": [],
   "source": [
    "perc"
   ]
  },
  {
   "cell_type": "markdown",
   "id": "5553aa12",
   "metadata": {},
   "source": [
    "# Epinions Trust Network Analysis:"
   ]
  },
  {
   "cell_type": "code",
   "execution_count": null,
   "id": "be60ac96",
   "metadata": {},
   "outputs": [],
   "source": [
    "#os.chdir('EquitablePartitions/Data')"
   ]
  },
  {
   "cell_type": "code",
   "execution_count": null,
   "id": "bb93df0f",
   "metadata": {},
   "outputs": [],
   "source": [
    "os.getcwd()"
   ]
  },
  {
   "cell_type": "code",
   "execution_count": null,
   "id": "465f07a4",
   "metadata": {},
   "outputs": [],
   "source": [
    "Eph_nx = nx.read_edgelist(\"soc-Epinions1.txt.gz\")"
   ]
  },
  {
   "cell_type": "code",
   "execution_count": null,
   "id": "4770f3c1",
   "metadata": {},
   "outputs": [],
   "source": [
    "relabeledGraph = graphs.relabel(Eph_nx)\n",
    "ep_dict_eph, lep_list_eph,_ = lep_finder.getEquitablePartitions(relabeledGraph)"
   ]
  },
  {
   "cell_type": "code",
   "execution_count": null,
   "id": "5e40274c",
   "metadata": {},
   "outputs": [],
   "source": [
    "nontEp_dict_eph,nontLep_list_eph, perc = graphs.NontrivialityData(relabeledGraph,ep_dict_eph,lep_list_eph)"
   ]
  },
  {
   "cell_type": "code",
   "execution_count": null,
   "id": "f82aec98",
   "metadata": {},
   "outputs": [],
   "source": [
    "perc"
   ]
  }
 ],
 "metadata": {
  "kernelspec": {
   "display_name": "Python 3 (ipykernel)",
   "language": "python",
   "name": "python3"
  },
  "language_info": {
   "codemirror_mode": {
    "name": "ipython",
    "version": 3
   },
   "file_extension": ".py",
   "mimetype": "text/x-python",
   "name": "python",
   "nbconvert_exporter": "python",
   "pygments_lexer": "ipython3",
   "version": "3.10.6"
  }
 },
 "nbformat": 4,
 "nbformat_minor": 5
}
