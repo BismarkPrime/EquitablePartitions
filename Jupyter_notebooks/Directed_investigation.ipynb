{
 "cells": [
  {
   "cell_type": "code",
   "execution_count": 22,
   "id": "af4bfb32",
   "metadata": {},
   "outputs": [],
   "source": [
    "import os\n",
    "from inspect import getmembers\n",
    "import networkx as nx\n",
    "from importlib import reload"
   ]
  },
  {
   "cell_type": "code",
   "execution_count": 34,
   "id": "7399bed5",
   "metadata": {},
   "outputs": [
    {
     "data": {
      "text/plain": [
       "<module 'graphs' from 'C:\\\\Users\\\\josep\\\\OneDrive\\\\Documents\\\\Para la Escuela\\\\Research\\\\Network Theory\\\\EquitablePartitions\\\\graphs.py'>"
      ]
     },
     "execution_count": 34,
     "metadata": {},
     "output_type": "execute_result"
    }
   ],
   "source": [
    "reload(graphs)"
   ]
  },
  {
   "cell_type": "code",
   "execution_count": 4,
   "id": "6b642217",
   "metadata": {},
   "outputs": [],
   "source": [
    "os.chdir('..')"
   ]
  },
  {
   "cell_type": "code",
   "execution_count": 5,
   "id": "bda11cf6",
   "metadata": {},
   "outputs": [
    {
     "data": {
      "text/plain": [
       "'C:\\\\Users\\\\josep\\\\OneDrive\\\\Documents\\\\Para la Escuela\\\\Research\\\\Network Theory\\\\EquitablePartitions'"
      ]
     },
     "execution_count": 5,
     "metadata": {},
     "output_type": "execute_result"
    }
   ],
   "source": [
    "os.getcwd()"
   ]
  },
  {
   "cell_type": "code",
   "execution_count": 32,
   "id": "b3b719d8",
   "metadata": {},
   "outputs": [
    {
     "data": {
      "text/plain": [
       "['.git',\n",
       " '.gitignore',\n",
       " 'computing_equitable_partitions_of_graphs.pdf',\n",
       " 'Data',\n",
       " 'ep_finder.py',\n",
       " 'geometric_leps.pdf',\n",
       " 'graphs.py',\n",
       " 'Jupyter_notebooks',\n",
       " 'lep_finder.py',\n",
       " 'README.md',\n",
       " 'test_lugar.py',\n",
       " '__pycache__']"
      ]
     },
     "execution_count": 32,
     "metadata": {},
     "output_type": "execute_result"
    }
   ],
   "source": [
    "os.listdir()"
   ]
  },
  {
   "cell_type": "code",
   "execution_count": 29,
   "id": "b2d92801",
   "metadata": {},
   "outputs": [],
   "source": [
    "import test_lugar as tl\n",
    "import graphs"
   ]
  },
  {
   "cell_type": "code",
   "execution_count": 28,
   "id": "ffa71512",
   "metadata": {},
   "outputs": [
    {
     "name": "stdout",
     "output_type": "stream",
     "text": [
      "{0: [1, 2, 3, 5], 1: [7], 2: [0, 4], 3: [6], 4: [8], 5: [9]}\n",
      "dict_values([{0, 2}, {1}, {3}, {4}, {5}])\n"
     ]
    },
    {
     "data": {
      "image/png": "[encoded data removed]",
      "text/plain": [
       "<Figure size 432x288 with 1 Axes>"
      ]
     },
     "metadata": {},
     "output_type": "display_data"
    }
   ],
   "source": [
    "G, pi, leps = tl.test_return()"
   ]
  },
  {
   "cell_type": "code",
   "execution_count": 36,
   "id": "48aa4319",
   "metadata": {},
   "outputs": [
    {
     "name": "stdout",
     "output_type": "stream",
     "text": [
      "{'{0, 2}': array([0.+0.j, 0.+0.j, 0.+0.j, 0.+0.j, 0.+0.j, 0.+0.j]), '{0, 2} Divisor': array([0.+0.j, 0.+0.j]), '{1}': array([0.+0.j]), '{1} Divisor': array([0.+0.j]), '{3}': array([0.+0.j]), '{3} Divisor': array([0.+0.j]), '{4}': array([0.+0.j]), '{4} Divisor': array([0.+0.j]), '{5}': array([0.+0.j]), '{5} Divisor': array([0.+0.j]), 'Original Graph Divisor': array([ 0.   +0.j,  1.414+0.j, -1.414+0.j,  0.   +0.j,  0.   +0.j,\n",
      "        0.   +0.j])}\n",
      "\n",
      "[ 0.   +0.j  0.   +0.j  0.   +0.j -1.414+0.j  0.   +0.j  1.414+0.j\n",
      "  0.   +0.j  0.   +0.j  0.   +0.j  0.   +0.j]\n"
     ]
    }
   ],
   "source": [
    "local_spec, orig_spec = graphs.GetLocalSpec(G,pi,leps)\n",
    "print(local_spec,orig_spec,sep='\\n\\n')"
   ]
  }
 ],
 "metadata": {
  "kernelspec": {
   "display_name": "Python 3 (ipykernel)",
   "language": "python",
   "name": "python3"
  },
  "language_info": {
   "codemirror_mode": {
    "name": "ipython",
    "version": 3
   },
   "file_extension": ".py",
   "mimetype": "text/x-python",
   "name": "python",
   "nbconvert_exporter": "python",
   "pygments_lexer": "ipython3",
   "version": "3.10.6"
  }
 },
 "nbformat": 4,
 "nbformat_minor": 5
}
