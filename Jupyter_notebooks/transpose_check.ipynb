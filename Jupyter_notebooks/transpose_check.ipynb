{
 "cells": [
  {
   "cell_type": "code",
   "execution_count": 1,
   "id": "ea46217b",
   "metadata": {},
   "outputs": [
    {
     "ename": "SyntaxError",
     "evalue": "invalid decimal literal (graphs.py, line 23)",
     "output_type": "error",
     "traceback": [
      "Traceback \u001b[0;36m(most recent call last)\u001b[0m:\n",
      "\u001b[0m  File \u001b[1;32m~/venvs/acme/lib/python3.10/site-packages/IPython/core/interactiveshell.py:3577\u001b[0m in \u001b[1;35mrun_code\u001b[0m\n    exec(code_obj, self.user_global_ns, self.user_ns)\u001b[0m\n",
      "\u001b[0m  Cell \u001b[1;32mIn[1], line 6\u001b[0m\n    import ep_finder, ep_utils, graphs\u001b[0m\n",
      "\u001b[0;36m  File \u001b[0;32m~/Desktop/Work/Research/EquitablePartitions/src/ep_utils.py:13\u001b[0;36m\n\u001b[0;31m    import graphs\u001b[0;36m\n",
      "\u001b[0;36m  File \u001b[0;32m~/Desktop/Work/Research/EquitablePartitions/src/graphs.py:23\u001b[0;36m\u001b[0m\n\u001b[0;31m    >>>>>>> 95ba4d3595f379fcd794dedf4107817253bf2e7a\u001b[0m\n\u001b[0m             ^\u001b[0m\n\u001b[0;31mSyntaxError\u001b[0m\u001b[0;31m:\u001b[0m invalid decimal literal\n"
     ]
    }
   ],
   "source": [
    "import os\n",
    "if 'src' != os.getcwd().split('/')[-1]:\n",
    "    os.chdir('../src')\n",
    "\n",
    "os.getcwd()\n",
    "import ep_finder, ep_utils, graphs"
   ]
  },
  {
   "cell_type": "code",
   "execution_count": null,
   "id": "e03ccd8e",
   "metadata": {},
   "outputs": [],
   "source": []
  }
 ],
 "metadata": {
  "kernelspec": {
   "display_name": "acme",
   "language": "python",
   "name": "acme"
  },
  "language_info": {
   "codemirror_mode": {
    "name": "ipython",
    "version": 3
   },
   "file_extension": ".py",
   "mimetype": "text/x-python",
   "name": "python",
   "nbconvert_exporter": "python",
   "pygments_lexer": "ipython3",
   "version": "3.10.15"
  }
 },
 "nbformat": 4,
 "nbformat_minor": 5
}
