{
 "cells": [
  {
   "cell_type": "code",
   "execution_count": 17,
   "metadata": {},
   "outputs": [],
   "source": [
    "import os\n",
    "os.chdir('/home/jrhmc1/Desktop/EquitablePartitions/src')\n",
    "import ep_finder as epf\n",
    "import lep_finder as lepf\n",
    "import graphs as g\n",
    "import ep_utils as epu\n",
    "import timing as tim"
   ]
  },
  {
   "cell_type": "code",
   "execution_count": 9,
   "metadata": {},
   "outputs": [
    {
     "name": "stdout",
     "output_type": "stream",
     "text": [
      "\n",
      "\n",
      "\t\tGraphML File Detected\n",
      "\n",
      "\n"
     ]
    }
   ],
   "source": [
    "os.chdir('/home/jrhmc1/Desktop/EquitablePartitions/Networks/Theoretical')\n",
    "G = g.oneGraphToRuleThemAll(\"bertha_25.graphml\",suppress=True)\n",
    "G = G.tocsr()"
   ]
  },
  {
   "cell_type": "code",
   "execution_count": 22,
   "metadata": {},
   "outputs": [
    {
     "data": {
      "text/plain": [
       "[[0], [1]]"
      ]
     },
     "execution_count": 22,
     "metadata": {},
     "output_type": "execute_result"
    }
   ],
   "source": [
    "lep_scat[0]"
   ]
  },
  {
   "cell_type": "code",
   "execution_count": 24,
   "metadata": {},
   "outputs": [
    {
     "data": {
      "text/plain": [
       "(array([-8.58662213,  8.75577524,  0.33089027,  5.26853655, -4.76857993]),\n",
       " [0.0, 0.0, 0.0, 0.0, 1.0, 1.0, 1.0, 1.0])"
      ]
     },
     "execution_count": 24,
     "metadata": {},
     "output_type": "execute_result"
    }
   ],
   "source": [
    "ep = epf.getEquitablePartition(epf.initFromSparse(G))\n",
    "lep = lepf.getLocalEquitablePartitions(lepf.initFromSparse(G),ep)\n",
    "lep_scat,_ = tim.prep_scatter(lep,3)\n",
    "\n",
    "epu._getEigenvaluesSparseFromPartialLeps(G.tocsc(),G,ep,lep_scat[0],include_globals=True)"
   ]
  }
 ],
 "metadata": {
  "kernelspec": {
   "display_name": "Python 3",
   "language": "python",
   "name": "python3"
  },
  "language_info": {
   "codemirror_mode": {
    "name": "ipython",
    "version": 3
   },
   "file_extension": ".py",
   "mimetype": "text/x-python",
   "name": "python",
   "nbconvert_exporter": "python",
   "pygments_lexer": "ipython3",
   "version": "3.11.5"
  }
 },
 "nbformat": 4,
 "nbformat_minor": 2
}
